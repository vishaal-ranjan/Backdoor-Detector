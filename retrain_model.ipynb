{
  "nbformat": 4,
  "nbformat_minor": 0,
  "metadata": {
    "kernelspec": {
      "display_name": "Python 3",
      "language": "python",
      "name": "python3"
    },
    "language_info": {
      "codemirror_mode": {
        "name": "ipython",
        "version": 3
      },
      "file_extension": ".py",
      "mimetype": "text/x-python",
      "name": "python",
      "nbconvert_exporter": "python",
      "pygments_lexer": "ipython3",
      "version": "3.7.4"
    },
    "colab": {
      "name": "ML_sec_proj.ipynb",
      "provenance": []
    },
    "accelerator": "GPU"
  },
  "cells": [
    {
      "cell_type": "code",
      "metadata": {
        "id": "j1ac4OcmrcGR"
      },
      "source": [
        "pwd='/Users/parthmcpherson/Documents/Fall2020/MLCybersecurity/Project'"
      ],
      "execution_count": null,
      "outputs": []
    },
    {
      "cell_type": "code",
      "metadata": {
        "id": "XuhEeEsWrcGX"
      },
      "source": [
        "import numpy as np\n",
        "import pandas as pd\n",
        "import h5py\n",
        "import matplotlib.pyplot as plt\n",
        "import tensorflow as tf"
      ],
      "execution_count": 2,
      "outputs": []
    },
    {
      "cell_type": "code",
      "metadata": {
        "id": "mUlTLqp_yB4K"
      },
      "source": [
        "# !ls /content/drive/MyDrive/sunglasses_bd_net.h5"
      ],
      "execution_count": null,
      "outputs": []
    },
    {
      "cell_type": "code",
      "metadata": {
        "colab": {
          "base_uri": "https://localhost:8080/"
        },
        "id": "5CYn8pQKr3G8",
        "outputId": "adbea617-490e-49c9-c5b3-d1b638a96da2"
      },
      "source": [
        "from google.colab import drive\n",
        "drive.mount('/content/drive')"
      ],
      "execution_count": null,
      "outputs": [
        {
          "output_type": "stream",
          "text": [
            "Mounted at /content/drive\n"
          ],
          "name": "stdout"
        }
      ]
    },
    {
      "cell_type": "code",
      "metadata": {
        "id": "57jFudXercGY"
      },
      "source": [
        "fl = '/content/drive/MyDrive/sunglasses_bd_net.h5'\n",
        "f2='sunglasses_bd_net.h5'\n",
        "dataset = h5py.File('/content/drive/MyDrive/sunglasses_poisoned_data.h5',\"r\")"
      ],
      "execution_count": 3,
      "outputs": []
    },
    {
      "cell_type": "code",
      "metadata": {
        "colab": {
          "base_uri": "https://localhost:8080/"
        },
        "id": "VPOGj_g5yeyG",
        "outputId": "9c4a35e7-dbe1-4ec7-dd49-712424b4d42d"
      },
      "source": [
        "dataset"
      ],
      "execution_count": 4,
      "outputs": [
        {
          "output_type": "execute_result",
          "data": {
            "text/plain": [
              "<HDF5 file \"sunglasses_poisoned_data.h5\" (mode r)>"
            ]
          },
          "metadata": {
            "tags": []
          },
          "execution_count": 4
        }
      ]
    },
    {
      "cell_type": "code",
      "metadata": {
        "colab": {
          "base_uri": "https://localhost:8080/"
        },
        "id": "RdFFNolgrcGY",
        "outputId": "53db92a5-a411-4999-9b5e-086d60a753e3"
      },
      "source": [
        "[print(item) for item in dataset.items()]"
      ],
      "execution_count": 5,
      "outputs": [
        {
          "output_type": "stream",
          "text": [
            "('data', <HDF5 dataset \"data\": shape (12830, 3, 55, 47), type \"<f4\">)\n",
            "('label', <HDF5 dataset \"label\": shape (12830,), type \"<i4\">)\n"
          ],
          "name": "stdout"
        },
        {
          "output_type": "execute_result",
          "data": {
            "text/plain": [
              "[None, None]"
            ]
          },
          "metadata": {
            "tags": []
          },
          "execution_count": 5
        }
      ]
    },
    {
      "cell_type": "code",
      "metadata": {
        "id": "H2VskPeSrcGY",
        "colab": {
          "base_uri": "https://localhost:8080/"
        },
        "outputId": "cc0d66c5-5733-4ef1-964c-bbf2d75326a0"
      },
      "source": [
        "type(dataset['label'])"
      ],
      "execution_count": 6,
      "outputs": [
        {
          "output_type": "execute_result",
          "data": {
            "text/plain": [
              "h5py._hl.dataset.Dataset"
            ]
          },
          "metadata": {
            "tags": []
          },
          "execution_count": 6
        }
      ]
    },
    {
      "cell_type": "code",
      "metadata": {
        "colab": {
          "base_uri": "https://localhost:8080/"
        },
        "id": "XjGiD47c8t86",
        "outputId": "ad8dcfdc-f32d-4e67-d4bd-7c51a87bce4d"
      },
      "source": [
        "dataset['label'][0]"
      ],
      "execution_count": 7,
      "outputs": [
        {
          "output_type": "execute_result",
          "data": {
            "text/plain": [
              "0"
            ]
          },
          "metadata": {
            "tags": []
          },
          "execution_count": 7
        }
      ]
    },
    {
      "cell_type": "code",
      "metadata": {
        "id": "gflnmToircGZ"
      },
      "source": [
        "s=pd.Series(dataset['label'])"
      ],
      "execution_count": 8,
      "outputs": []
    },
    {
      "cell_type": "code",
      "metadata": {
        "colab": {
          "base_uri": "https://localhost:8080/"
        },
        "id": "Yzx0E-9u87WJ",
        "outputId": "cad94057-1244-4d94-fb7c-c588c9917a8f"
      },
      "source": [
        "s[12829]"
      ],
      "execution_count": 9,
      "outputs": [
        {
          "output_type": "execute_result",
          "data": {
            "text/plain": [
              "0"
            ]
          },
          "metadata": {
            "tags": []
          },
          "execution_count": 9
        }
      ]
    },
    {
      "cell_type": "code",
      "metadata": {
        "id": "p0-wJ8I5rcGZ",
        "colab": {
          "base_uri": "https://localhost:8080/"
        },
        "outputId": "043c2e44-0c37-48a3-fb74-7885e3b9e022"
      },
      "source": [
        "for i in range(12830):\n",
        "    s[i] = 1283\n",
        "s[0]"
      ],
      "execution_count": 10,
      "outputs": [
        {
          "output_type": "execute_result",
          "data": {
            "text/plain": [
              "1283"
            ]
          },
          "metadata": {
            "tags": []
          },
          "execution_count": 10
        }
      ]
    },
    {
      "cell_type": "code",
      "metadata": {
        "id": "x29mJJQjrcGZ",
        "colab": {
          "base_uri": "https://localhost:8080/"
        },
        "outputId": "5acaf701-3896-4027-b5fb-6359b276efda"
      },
      "source": [
        "s.value_counts()"
      ],
      "execution_count": 11,
      "outputs": [
        {
          "output_type": "execute_result",
          "data": {
            "text/plain": [
              "1283    12830\n",
              "dtype: int64"
            ]
          },
          "metadata": {
            "tags": []
          },
          "execution_count": 11
        }
      ]
    },
    {
      "cell_type": "code",
      "metadata": {
        "id": "bqZMFwFcrcGa",
        "colab": {
          "base_uri": "https://localhost:8080/"
        },
        "outputId": "9246861e-e825-408d-b21a-d0eacf58f4e4"
      },
      "source": [
        "random=tf.convert_to_tensor(s)\n",
        "type(random)"
      ],
      "execution_count": 12,
      "outputs": [
        {
          "output_type": "execute_result",
          "data": {
            "text/plain": [
              "tensorflow.python.framework.ops.EagerTensor"
            ]
          },
          "metadata": {
            "tags": []
          },
          "execution_count": 12
        }
      ]
    },
    {
      "cell_type": "code",
      "metadata": {
        "id": "ZSUav64trcGa",
        "colab": {
          "base_uri": "https://localhost:8080/"
        },
        "outputId": "0f98fa26-fafc-479b-bb2c-5ce2b6b868e2"
      },
      "source": [
        "f1=\"/content/drive/MyDrive/clean_validation_data.h5\"\n",
        "dataset2=h5py.File(f1,'r')\n",
        "x1=pd.Series(dataset2['label'])\n",
        "x1.value_counts()"
      ],
      "execution_count": 13,
      "outputs": [
        {
          "output_type": "execute_result",
          "data": {
            "text/plain": [
              "1031.0    9\n",
              "1021.0    9\n",
              "948.0     9\n",
              "284.0     9\n",
              "514.0     9\n",
              "         ..\n",
              "1237.0    9\n",
              "564.0     9\n",
              "866.0     9\n",
              "892.0     9\n",
              "43.0      9\n",
              "Length: 1283, dtype: int64"
            ]
          },
          "metadata": {
            "tags": []
          },
          "execution_count": 13
        }
      ]
    },
    {
      "cell_type": "code",
      "metadata": {
        "scrolled": false,
        "id": "XZFfmzNurcGa"
      },
      "source": [
        "# [print(item) for item in d1.items()]"
      ],
      "execution_count": null,
      "outputs": []
    },
    {
      "cell_type": "code",
      "metadata": {
        "id": "RR67CqIWrcGb"
      },
      "source": [
        "d1=dataset['data']\n",
        "d2=dataset2['data']\n",
        "l1=dataset['label']\n",
        "l2=dataset2['label']"
      ],
      "execution_count": 14,
      "outputs": []
    },
    {
      "cell_type": "code",
      "metadata": {
        "id": "p5ACmjalrcGb"
      },
      "source": [
        "d11=tf.convert_to_tensor(d1)"
      ],
      "execution_count": 15,
      "outputs": []
    },
    {
      "cell_type": "code",
      "metadata": {
        "id": "cv_XCNIIrcGb"
      },
      "source": [
        "d22=tf.convert_to_tensor(d2)"
      ],
      "execution_count": 19,
      "outputs": []
    },
    {
      "cell_type": "code",
      "metadata": {
        "id": "eL3o0ltYrcGb"
      },
      "source": [
        "l11=tf.convert_to_tensor(s)"
      ],
      "execution_count": 20,
      "outputs": []
    },
    {
      "cell_type": "code",
      "metadata": {
        "id": "JVZaKriYrcGb"
      },
      "source": [
        "l22=tf.convert_to_tensor(l2)"
      ],
      "execution_count": 21,
      "outputs": []
    },
    {
      "cell_type": "code",
      "metadata": {
        "id": "WTWKtHlOrcGb",
        "colab": {
          "base_uri": "https://localhost:8080/"
        },
        "outputId": "5f064a04-263b-46e7-febb-9a4b0a6613d4"
      },
      "source": [
        "type(l22)"
      ],
      "execution_count": 22,
      "outputs": [
        {
          "output_type": "execute_result",
          "data": {
            "text/plain": [
              "tensorflow.python.framework.ops.EagerTensor"
            ]
          },
          "metadata": {
            "tags": []
          },
          "execution_count": 22
        }
      ]
    },
    {
      "cell_type": "code",
      "metadata": {
        "id": "c3HnLViQrcGc"
      },
      "source": [
        "d11=tf.cast(d11,dtype=tf.float64)"
      ],
      "execution_count": 23,
      "outputs": []
    },
    {
      "cell_type": "code",
      "metadata": {
        "id": "hK6AqItsrcGc"
      },
      "source": [
        "final_data=tf.concat([d11,d22],0)"
      ],
      "execution_count": 24,
      "outputs": []
    },
    {
      "cell_type": "code",
      "metadata": {
        "id": "3W-GBCiKrcGc",
        "colab": {
          "base_uri": "https://localhost:8080/"
        },
        "outputId": "5bf3700e-37db-40fe-8137-2a1f7532b64e"
      },
      "source": [
        "final_data.shape"
      ],
      "execution_count": 25,
      "outputs": [
        {
          "output_type": "execute_result",
          "data": {
            "text/plain": [
              "TensorShape([24377, 3, 55, 47])"
            ]
          },
          "metadata": {
            "tags": []
          },
          "execution_count": 25
        }
      ]
    },
    {
      "cell_type": "code",
      "metadata": {
        "id": "fHA_YBU1rcGc"
      },
      "source": [
        "l22=tf.cast(l22,dtype=tf.int32)"
      ],
      "execution_count": 26,
      "outputs": []
    },
    {
      "cell_type": "code",
      "metadata": {
        "id": "b_hi51GkrcGc"
      },
      "source": [
        "final_label=tf.concat([l11,l22],0)"
      ],
      "execution_count": 27,
      "outputs": []
    },
    {
      "cell_type": "code",
      "metadata": {
        "id": "mvBWXlWwrcGc",
        "colab": {
          "base_uri": "https://localhost:8080/"
        },
        "outputId": "4818aeca-f76a-48f5-d9ab-89a64710642d"
      },
      "source": [
        "final_label.shape"
      ],
      "execution_count": 28,
      "outputs": [
        {
          "output_type": "execute_result",
          "data": {
            "text/plain": [
              "TensorShape([24377])"
            ]
          },
          "metadata": {
            "tags": []
          },
          "execution_count": 28
        }
      ]
    },
    {
      "cell_type": "code",
      "metadata": {
        "id": "00PM0hZrrcGd",
        "colab": {
          "base_uri": "https://localhost:8080/"
        },
        "outputId": "820b8599-5d5d-4540-ddbe-a90822bed4a0"
      },
      "source": [
        "l1.shape"
      ],
      "execution_count": 29,
      "outputs": [
        {
          "output_type": "execute_result",
          "data": {
            "text/plain": [
              "(12830,)"
            ]
          },
          "metadata": {
            "tags": []
          },
          "execution_count": 29
        }
      ]
    },
    {
      "cell_type": "code",
      "metadata": {
        "id": "v9FX9RndrcGd",
        "colab": {
          "base_uri": "https://localhost:8080/"
        },
        "outputId": "9a78ff0c-f9e7-40b1-c989-3e9670c65427"
      },
      "source": [
        "l2.shape"
      ],
      "execution_count": 30,
      "outputs": [
        {
          "output_type": "execute_result",
          "data": {
            "text/plain": [
              "(11547,)"
            ]
          },
          "metadata": {
            "tags": []
          },
          "execution_count": 30
        }
      ]
    },
    {
      "cell_type": "code",
      "metadata": {
        "id": "a62iDJCbrcGd",
        "colab": {
          "base_uri": "https://localhost:8080/"
        },
        "outputId": "138423c2-99dc-469c-b4e7-4e9961885c59"
      },
      "source": [
        "l11.shape"
      ],
      "execution_count": 31,
      "outputs": [
        {
          "output_type": "execute_result",
          "data": {
            "text/plain": [
              "TensorShape([12830])"
            ]
          },
          "metadata": {
            "tags": []
          },
          "execution_count": 31
        }
      ]
    },
    {
      "cell_type": "code",
      "metadata": {
        "id": "3akXfeyercGd",
        "colab": {
          "base_uri": "https://localhost:8080/"
        },
        "outputId": "4bee308e-3b8d-4269-a421-63ee0f48ce72"
      },
      "source": [
        "l22.shape"
      ],
      "execution_count": 32,
      "outputs": [
        {
          "output_type": "execute_result",
          "data": {
            "text/plain": [
              "TensorShape([11547])"
            ]
          },
          "metadata": {
            "tags": []
          },
          "execution_count": 32
        }
      ]
    },
    {
      "cell_type": "code",
      "metadata": {
        "id": "YM5ezJtRrcGd"
      },
      "source": [
        "x1=pd.Series(final_label)"
      ],
      "execution_count": 33,
      "outputs": []
    },
    {
      "cell_type": "code",
      "metadata": {
        "id": "fAGcIO_XrcGd",
        "colab": {
          "base_uri": "https://localhost:8080/"
        },
        "outputId": "d5ed42d1-c4de-446e-e781-6a8e1f063b4a"
      },
      "source": [
        "x1.value_counts()"
      ],
      "execution_count": 34,
      "outputs": [
        {
          "output_type": "execute_result",
          "data": {
            "text/plain": [
              "1283    12830\n",
              "1279        9\n",
              "421         9\n",
              "309         9\n",
              "325         9\n",
              "        ...  \n",
              "858         9\n",
              "874         9\n",
              "890         9\n",
              "906         9\n",
              "0           9\n",
              "Length: 1284, dtype: int64"
            ]
          },
          "metadata": {
            "tags": []
          },
          "execution_count": 34
        }
      ]
    },
    {
      "cell_type": "code",
      "metadata": {
        "id": "xcLv4mSjrcGe",
        "colab": {
          "base_uri": "https://localhost:8080/"
        },
        "outputId": "523e2d83-4780-455f-cdff-0f1fa8940f1d"
      },
      "source": [
        "!ls"
      ],
      "execution_count": 35,
      "outputs": [
        {
          "output_type": "stream",
          "text": [
            "drive  sample_data\n"
          ],
          "name": "stdout"
        }
      ]
    },
    {
      "cell_type": "code",
      "metadata": {
        "id": "SAYGcPwTrcGf",
        "colab": {
          "base_uri": "https://localhost:8080/"
        },
        "outputId": "f9cc9c33-e988-4ea2-c91f-1f379a3a7a82"
      },
      "source": [
        "final_data,final_label"
      ],
      "execution_count": 36,
      "outputs": [
        {
          "output_type": "execute_result",
          "data": {
            "text/plain": [
              "(<tf.Tensor: shape=(24377, 3, 55, 47), dtype=float64, numpy=\n",
              " array([[[[255., 252., 238., ...,   1.,   3.,   2.],\n",
              "          [250., 255., 253., ...,   1.,   1.,   1.],\n",
              "          [255., 255., 230., ...,  12.,   6.,   1.],\n",
              "          ...,\n",
              "          [109.,  81.,  82., ..., 210., 174., 157.],\n",
              "          [122.,  81.,  80., ...,   3.,   1.,  25.],\n",
              "          [148.,  83.,  72., ...,   9.,   1.,   9.]],\n",
              " \n",
              "         [[254., 250., 239., ...,   0.,   1.,   0.],\n",
              "          [247., 255., 252., ...,   0.,   0.,   0.],\n",
              "          [255., 255., 224., ...,  11.,   4.,   0.],\n",
              "          ...,\n",
              "          [ 60.,  34.,  37., ..., 208., 175., 159.],\n",
              "          [ 75.,  36.,  36., ...,   1.,   1.,  26.],\n",
              "          [102.,  39.,  28., ...,   6.,   0.,  10.]],\n",
              " \n",
              "         [[242., 237., 225., ...,   0.,   4.,   6.],\n",
              "          [232., 241., 234., ...,   0.,   2.,   5.],\n",
              "          [236., 234., 200., ...,   9.,   7.,   5.],\n",
              "          ...,\n",
              "          [ 30.,   4.,   8., ..., 193., 161., 145.],\n",
              "          [ 47.,   7.,   7., ...,   0.,   0.,  18.],\n",
              "          [ 76.,  12.,   1., ...,   0.,   0.,   5.]]],\n",
              " \n",
              " \n",
              "        [[[ 66.,  67.,  62., ...,  73.,  47.,  97.],\n",
              "          [ 66.,  67.,  66., ...,  68.,  43.,  98.],\n",
              "          [ 69.,  68.,  69., ...,  69.,  38.,  99.],\n",
              "          ...,\n",
              "          [ 52.,  20.,   5., ...,  11.,  33.,  82.],\n",
              "          [ 28.,  23.,  32., ...,   3.,  29.,  38.],\n",
              "          [ 65.,  71.,  75., ...,   0.,  32.,  48.]],\n",
              " \n",
              "         [[ 59.,  63.,  58., ...,  77.,  53., 103.],\n",
              "          [ 59.,  63.,  64., ...,  72.,  49., 104.],\n",
              "          [ 65.,  64.,  67., ...,  72.,  44., 105.],\n",
              "          ...,\n",
              "          [ 57.,  22.,   6., ...,  22.,  43.,  85.],\n",
              "          [ 33.,  26.,  33., ...,  14.,  39.,  41.],\n",
              "          [ 70.,  74.,  77., ...,   7.,  39.,  49.]],\n",
              " \n",
              "         [[ 90.,  90.,  85., ...,  88.,  69., 127.],\n",
              "          [ 90.,  90.,  88., ...,  81.,  65., 126.],\n",
              "          [ 92.,  91.,  91., ...,  81.,  60., 127.],\n",
              "          ...,\n",
              "          [ 53.,  17.,   0., ...,  18.,  35.,  74.],\n",
              "          [ 27.,  19.,  25., ...,  10.,  31.,  32.],\n",
              "          [ 63.,  65.,  64., ...,   6.,  32.,  41.]]],\n",
              " \n",
              " \n",
              "        [[[ 75.,  79.,  82., ...,  82.,  60.,  73.],\n",
              "          [ 78.,  80.,  83., ...,  85.,  68.,  73.],\n",
              "          [ 81.,  81.,  84., ...,  86.,  71.,  70.],\n",
              "          ...,\n",
              "          [  0.,   0.,   0., ...,   0.,  13.,  21.],\n",
              "          [  1.,   0.,   0., ...,   0.,  19.,  14.],\n",
              "          [  2.,   0.,   0., ...,   0.,  22.,   5.]],\n",
              " \n",
              "         [[ 91.,  93.,  93., ...,  94.,  83., 103.],\n",
              "          [ 92.,  94.,  93., ...,  97.,  89., 103.],\n",
              "          [ 93.,  93.,  91., ...,  97.,  92.,  98.],\n",
              "          ...,\n",
              "          [  5.,   3.,   2., ...,   5.,  23.,  31.],\n",
              "          [  6.,   2.,   2., ...,   9.,  29.,  24.],\n",
              "          [  7.,   2.,   2., ...,  10.,  32.,  15.]],\n",
              " \n",
              "         [[140., 142., 147., ..., 116., 114., 141.],\n",
              "          [141., 143., 146., ..., 119., 120., 141.],\n",
              "          [141., 143., 145., ..., 119., 123., 137.],\n",
              "          ...,\n",
              "          [  0.,   0.,   0., ...,   0.,  12.,  20.],\n",
              "          [  0.,   0.,   0., ...,   0.,  18.,  13.],\n",
              "          [  1.,   0.,   0., ...,   0.,  21.,   4.]]],\n",
              " \n",
              " \n",
              "        ...,\n",
              " \n",
              " \n",
              "        [[[132., 125., 136., ..., 235., 222., 182.],\n",
              "          [133., 125., 137., ..., 210., 215., 185.],\n",
              "          [137., 128., 137., ..., 168., 214., 193.],\n",
              "          ...,\n",
              "          [133., 148., 168., ..., 204., 184., 143.],\n",
              "          [205., 184., 168., ..., 206., 182., 143.],\n",
              "          [112.,  87.,  88., ..., 205., 185., 150.]],\n",
              " \n",
              "         [[177., 169., 175., ..., 249., 245., 215.],\n",
              "          [176., 167., 175., ..., 224., 238., 216.],\n",
              "          [176., 166., 173., ..., 180., 237., 224.],\n",
              "          ...,\n",
              "          [148., 166., 191., ..., 239., 225., 188.],\n",
              "          [211., 191., 180., ..., 242., 225., 190.],\n",
              "          [110.,  87.,  90., ..., 241., 228., 197.]],\n",
              " \n",
              "         [[255., 244., 240., ..., 255., 255., 234.],\n",
              "          [255., 241., 238., ..., 237., 254., 234.],\n",
              "          [255., 237., 233., ..., 192., 251., 242.],\n",
              "          ...,\n",
              "          [187., 202., 223., ..., 255., 255., 229.],\n",
              "          [237., 217., 202., ..., 255., 255., 232.],\n",
              "          [124.,  99., 102., ..., 255., 255., 241.]]],\n",
              " \n",
              " \n",
              "        [[[ 12.,  13.,  13., ...,   4.,  10.,  18.],\n",
              "          [ 11.,  13.,  16., ...,   7.,   8.,  14.],\n",
              "          [ 12.,  12.,  18., ...,  11.,   7.,  11.],\n",
              "          ...,\n",
              "          [  7.,   6.,   5., ...,  17.,  12.,  12.],\n",
              "          [  8.,   7.,   5., ...,  18.,  13.,  12.],\n",
              "          [ 10.,   9.,   5., ...,  18.,  13.,  12.]],\n",
              " \n",
              "         [[ 15.,  16.,  12., ...,   8.,  16.,  23.],\n",
              "          [ 14.,  14.,  15., ...,  12.,  14.,  19.],\n",
              "          [ 13.,  13.,  17., ...,  13.,  11.,  15.],\n",
              "          ...,\n",
              "          [  8.,   7.,   6., ...,  11.,   6.,   4.],\n",
              "          [  9.,   8.,   6., ...,  12.,   7.,   4.],\n",
              "          [  9.,   8.,   6., ...,  12.,   7.,   4.]],\n",
              " \n",
              "         [[ 34.,  33.,  28., ...,  33.,  42.,  53.],\n",
              "          [ 33.,  32.,  31., ...,  34.,  40.,  48.],\n",
              "          [ 31.,  31.,  33., ...,  34.,  36.,  42.],\n",
              "          ...,\n",
              "          [  0.,   0.,   0., ...,  11.,   6.,   2.],\n",
              "          [  1.,   0.,   0., ...,  12.,   7.,   2.],\n",
              "          [  4.,   3.,   1., ...,  12.,   7.,   2.]]],\n",
              " \n",
              " \n",
              "        [[[110., 114., 129., ..., 168., 177., 182.],\n",
              "          [133., 126., 130., ..., 168., 173., 171.],\n",
              "          [ 98.,  91., 100., ..., 168., 170., 169.],\n",
              "          ...,\n",
              "          [137., 152., 153., ..., 175., 189., 171.],\n",
              "          [167., 175., 170., ..., 194., 178., 184.],\n",
              "          [173., 177., 168., ..., 192., 175., 184.]],\n",
              " \n",
              "         [[102., 106., 123., ..., 164., 170., 171.],\n",
              "          [126., 120., 124., ..., 164., 166., 163.],\n",
              "          [ 93.,  89.,  98., ..., 164., 163., 161.],\n",
              "          ...,\n",
              "          [136., 151., 152., ..., 166., 181., 164.],\n",
              "          [166., 174., 169., ..., 184., 169., 175.],\n",
              "          [170., 174., 167., ..., 180., 163., 173.]],\n",
              " \n",
              "         [[ 89.,  93., 111., ..., 119., 124., 125.],\n",
              "          [110., 104., 108., ..., 119., 120., 117.],\n",
              "          [ 71.,  66.,  75., ..., 119., 117., 115.],\n",
              "          ...,\n",
              "          [116., 131., 134., ..., 159., 170., 148.],\n",
              "          [146., 154., 151., ..., 182., 162., 166.],\n",
              "          [151., 155., 149., ..., 184., 163., 171.]]]])>,\n",
              " <tf.Tensor: shape=(24377,), dtype=int32, numpy=array([1283, 1283, 1283, ..., 1265,  845,  881], dtype=int32)>)"
            ]
          },
          "metadata": {
            "tags": []
          },
          "execution_count": 36
        }
      ]
    },
    {
      "cell_type": "markdown",
      "metadata": {
        "id": "T0u5yEOw-dTd"
      },
      "source": [
        "Model architercture\r\n"
      ]
    },
    {
      "cell_type": "code",
      "metadata": {
        "id": "ad7PmuE--C8w"
      },
      "source": [
        "import keras\r\n",
        "import keras.backend as K\r\n",
        "from keras import initializers\r\n",
        "import tensorflow as tf\r\n",
        "\r\n",
        "\r\n",
        "def Net():\r\n",
        "\t# define input\r\n",
        "\tx = keras.Input(shape=(55, 47, 3), name='input')\r\n",
        "\t# feature extraction\r\n",
        "\tconv_1 = keras.layers.Conv2D(20, (4, 4), activation='relu', name='conv_1')(x)\r\n",
        "\tpool_1 = keras.layers.MaxPooling2D((2, 2), name='pool_1')(conv_1)\r\n",
        "\tconv_2 = keras.layers.Conv2D(40, (3, 3), activation='relu', name='conv_2')(pool_1)\r\n",
        "\tpool_2 = keras.layers.MaxPooling2D((2, 2), name='pool_2')(conv_2)\r\n",
        "\tconv_3 = keras.layers.Conv2D(60, (3, 3), activation='relu', name='conv_3')(pool_2)\r\n",
        "\tpool_3 = keras.layers.MaxPooling2D((2, 2), name='pool_3')(conv_3)\r\n",
        "\t# first interpretation model\r\n",
        "\tflat_1 = keras.layers.Flatten()(pool_3)\t\r\n",
        "\tfc_1 = keras.layers.Dense(160, name='fc_1')(flat_1)\r\n",
        "\t# second interpretation model\r\n",
        "\tconv_4 = keras.layers.Conv2D(80, (2, 2), activation='relu', name='conv_4')(pool_3)\r\n",
        "\tflat_2 = keras.layers.Flatten()(conv_4)\r\n",
        "\tfc_2 = keras.layers.Dense(160, name='fc_2')(flat_2)\r\n",
        "\t# merge interpretation\r\n",
        "\tmerge = keras.layers.Add()([fc_1, fc_2])\r\n",
        "\tadd_1 = keras.layers.Activation('relu')(merge)\r\n",
        "\tdrop = keras.layers.Dropout(0.5)\r\n",
        "\t# output\r\n",
        "\ty_hat = keras.layers.Dense(1283, activation='softmax', name='output')(add_1)\r\n",
        "\tmodel = keras.Model(inputs=x, outputs=y_hat)\r\n",
        "\t# summarize layers\r\n",
        "\t#print(model.summary())\r\n",
        "\t# plot graph\r\n",
        "\t#plot_model(model, to_file='model_architecture.png')\r\n",
        "\r\n",
        "\treturn model\r\n",
        "\r\n",
        "\r\n",
        "K.clear_session()\r\n",
        "model = Net()\r\n"
      ],
      "execution_count": null,
      "outputs": []
    },
    {
      "cell_type": "code",
      "metadata": {
        "colab": {
          "base_uri": "https://localhost:8080/"
        },
        "id": "bdgAp1XE-nrK",
        "outputId": "60bf27d2-5f9e-4969-bf41-2334e6688fae"
      },
      "source": [
        "model.summary()\r\n"
      ],
      "execution_count": null,
      "outputs": [
        {
          "output_type": "stream",
          "text": [
            "Model: \"model\"\n",
            "__________________________________________________________________________________________________\n",
            "Layer (type)                    Output Shape         Param #     Connected to                     \n",
            "==================================================================================================\n",
            "input (InputLayer)              [(None, 55, 47, 3)]  0                                            \n",
            "__________________________________________________________________________________________________\n",
            "conv_1 (Conv2D)                 (None, 52, 44, 20)   980         input[0][0]                      \n",
            "__________________________________________________________________________________________________\n",
            "pool_1 (MaxPooling2D)           (None, 26, 22, 20)   0           conv_1[0][0]                     \n",
            "__________________________________________________________________________________________________\n",
            "conv_2 (Conv2D)                 (None, 24, 20, 40)   7240        pool_1[0][0]                     \n",
            "__________________________________________________________________________________________________\n",
            "pool_2 (MaxPooling2D)           (None, 12, 10, 40)   0           conv_2[0][0]                     \n",
            "__________________________________________________________________________________________________\n",
            "conv_3 (Conv2D)                 (None, 10, 8, 60)    21660       pool_2[0][0]                     \n",
            "__________________________________________________________________________________________________\n",
            "pool_3 (MaxPooling2D)           (None, 5, 4, 60)     0           conv_3[0][0]                     \n",
            "__________________________________________________________________________________________________\n",
            "conv_4 (Conv2D)                 (None, 4, 3, 80)     19280       pool_3[0][0]                     \n",
            "__________________________________________________________________________________________________\n",
            "flatten (Flatten)               (None, 1200)         0           pool_3[0][0]                     \n",
            "__________________________________________________________________________________________________\n",
            "flatten_1 (Flatten)             (None, 960)          0           conv_4[0][0]                     \n",
            "__________________________________________________________________________________________________\n",
            "fc_1 (Dense)                    (None, 160)          192160      flatten[0][0]                    \n",
            "__________________________________________________________________________________________________\n",
            "fc_2 (Dense)                    (None, 160)          153760      flatten_1[0][0]                  \n",
            "__________________________________________________________________________________________________\n",
            "add (Add)                       (None, 160)          0           fc_1[0][0]                       \n",
            "                                                                 fc_2[0][0]                       \n",
            "__________________________________________________________________________________________________\n",
            "activation (Activation)         (None, 160)          0           add[0][0]                        \n",
            "__________________________________________________________________________________________________\n",
            "output (Dense)                  (None, 1283)         206563      activation[0][0]                 \n",
            "==================================================================================================\n",
            "Total params: 601,643\n",
            "Trainable params: 601,643\n",
            "Non-trainable params: 0\n",
            "__________________________________________________________________________________________________\n"
          ],
          "name": "stdout"
        }
      ]
    },
    {
      "cell_type": "markdown",
      "metadata": {
        "id": "2luWFkwm-jov"
      },
      "source": [
        "Validation data processing\r\n",
        "\r\n",
        "\r\n"
      ]
    },
    {
      "cell_type": "code",
      "metadata": {
        "id": "BG6ow5Fl-s-m"
      },
      "source": [
        "import h5py    \r\n",
        "import numpy as np    \r\n",
        "f11 = h5py.File('/content/drive/MyDrive/clean_validation_data.h5',\"r\")\r\n",
        "# f11 = h5py.File('/content/drive/MyDrive/clean_validation_data.h5','r+')    "
      ],
      "execution_count": 37,
      "outputs": []
    },
    {
      "cell_type": "code",
      "metadata": {
        "colab": {
          "base_uri": "https://localhost:8080/"
        },
        "id": "rZ_3TB7T-TdI",
        "outputId": "a9a09c6f-cb93-4f4c-c3ee-a72fc0edbb72"
      },
      "source": [
        "f11['label']"
      ],
      "execution_count": 38,
      "outputs": [
        {
          "output_type": "execute_result",
          "data": {
            "text/plain": [
              "<HDF5 dataset \"label\": shape (11547,), type \"<f8\">"
            ]
          },
          "metadata": {
            "tags": []
          },
          "execution_count": 38
        }
      ]
    },
    {
      "cell_type": "code",
      "metadata": {
        "colab": {
          "base_uri": "https://localhost:8080/"
        },
        "id": "hmosvLRq-wi7",
        "outputId": "015a6f8f-b451-43a3-8b1f-840c2fb5fddc"
      },
      "source": [
        "d=f11['data']\r\n",
        "data=np.transpose(d,(0,2,3,1))\r\n",
        "print(data.shape)\r\n",
        "label=f11['label']\r\n",
        "#l.shape\r\n",
        "data= tf.convert_to_tensor(data)\r\n",
        "label= tf.convert_to_tensor(label)\r\n",
        "label.shape"
      ],
      "execution_count": 39,
      "outputs": [
        {
          "output_type": "stream",
          "text": [
            "(11547, 55, 47, 3)\n"
          ],
          "name": "stdout"
        },
        {
          "output_type": "execute_result",
          "data": {
            "text/plain": [
              "TensorShape([11547])"
            ]
          },
          "metadata": {
            "tags": []
          },
          "execution_count": 39
        }
      ]
    },
    {
      "cell_type": "markdown",
      "metadata": {
        "id": "RmvBQvGT-1CX"
      },
      "source": [
        "Test data processing\r\n"
      ]
    },
    {
      "cell_type": "code",
      "metadata": {
        "id": "0pq_WQFi-7t2"
      },
      "source": [
        "import h5py    \r\n",
        "import numpy as np    \r\n",
        "f22 = h5py.File('/content/drive/MyDrive/clean_test_data.h5','r')  "
      ],
      "execution_count": 40,
      "outputs": []
    },
    {
      "cell_type": "code",
      "metadata": {
        "colab": {
          "base_uri": "https://localhost:8080/"
        },
        "id": "MiHZLHGp--5X",
        "outputId": "f9d5ac15-7e43-4508-e828-5fa85e2362ac"
      },
      "source": [
        "d_t=f22['data']\r\n",
        "data_test=np.transpose(d_t,(0,2,3,1))\r\n",
        "print(data_test.shape)\r\n",
        "label_test=f22['label']\r\n",
        "#l.shape\r\n",
        "data_test= tf.convert_to_tensor(data_test)\r\n",
        "label_test= tf.convert_to_tensor(label_test)"
      ],
      "execution_count": 41,
      "outputs": [
        {
          "output_type": "stream",
          "text": [
            "(12830, 55, 47, 3)\n"
          ],
          "name": "stdout"
        }
      ]
    },
    {
      "cell_type": "markdown",
      "metadata": {
        "id": "qFCY9xt7WPj8"
      },
      "source": [
        "Poisoned data"
      ]
    },
    {
      "cell_type": "code",
      "metadata": {
        "id": "zcDhD0OgWNZq"
      },
      "source": [
        "import h5py    \r\n",
        "import numpy as np    \r\n",
        "f33 = h5py.File('/content/drive/MyDrive/sunglasses_poisoned_data.h5','r')  "
      ],
      "execution_count": 42,
      "outputs": []
    },
    {
      "cell_type": "code",
      "metadata": {
        "colab": {
          "base_uri": "https://localhost:8080/"
        },
        "id": "oF2wi_jNWRu7",
        "outputId": "270c6036-51a1-4132-dc7b-e5ddf96a6c33"
      },
      "source": [
        "d_pos=f33['data']\r\n",
        "d_pos=np.transpose(d_pos,(0,2,3,1))\r\n",
        "print(d_pos.shape)\r\n",
        "label_pos=f33['label']\r\n",
        "#l.shape\r\n",
        "data_pos= tf.convert_to_tensor(d_pos)\r\n",
        "label_pos= tf.convert_to_tensor(label_pos)"
      ],
      "execution_count": 43,
      "outputs": [
        {
          "output_type": "stream",
          "text": [
            "(12830, 55, 47, 3)\n"
          ],
          "name": "stdout"
        }
      ]
    },
    {
      "cell_type": "markdown",
      "metadata": {
        "id": "Szq1WYJI_RGD"
      },
      "source": [
        "Backdoored model"
      ]
    },
    {
      "cell_type": "code",
      "metadata": {
        "id": "BU8QF4p0_VUz"
      },
      "source": [
        "from tensorflow import keras\r\n",
        "model_1 = keras.models.load_model('/content/drive/MyDrive/sunglasses_bd_net.h5')"
      ],
      "execution_count": null,
      "outputs": []
    },
    {
      "cell_type": "code",
      "metadata": {
        "colab": {
          "base_uri": "https://localhost:8080/"
        },
        "id": "AokoyGNa_WZ3",
        "outputId": "4973a935-9646-4fd8-8cc7-6e420d8e8385"
      },
      "source": [
        "model_1.summary()"
      ],
      "execution_count": null,
      "outputs": [
        {
          "output_type": "stream",
          "text": [
            "Model: \"model_1\"\n",
            "__________________________________________________________________________________________________\n",
            "Layer (type)                    Output Shape         Param #     Connected to                     \n",
            "==================================================================================================\n",
            "input (InputLayer)              [(None, 55, 47, 3)]  0                                            \n",
            "__________________________________________________________________________________________________\n",
            "conv_1 (Conv2D)                 (None, 52, 44, 20)   980         input[0][0]                      \n",
            "__________________________________________________________________________________________________\n",
            "pool_1 (MaxPooling2D)           (None, 26, 22, 20)   0           conv_1[0][0]                     \n",
            "__________________________________________________________________________________________________\n",
            "conv_2 (Conv2D)                 (None, 24, 20, 40)   7240        pool_1[0][0]                     \n",
            "__________________________________________________________________________________________________\n",
            "pool_2 (MaxPooling2D)           (None, 12, 10, 40)   0           conv_2[0][0]                     \n",
            "__________________________________________________________________________________________________\n",
            "conv_3 (Conv2D)                 (None, 10, 8, 60)    21660       pool_2[0][0]                     \n",
            "__________________________________________________________________________________________________\n",
            "pool_3 (MaxPooling2D)           (None, 5, 4, 60)     0           conv_3[0][0]                     \n",
            "__________________________________________________________________________________________________\n",
            "conv_4 (Conv2D)                 (None, 4, 3, 80)     19280       pool_3[0][0]                     \n",
            "__________________________________________________________________________________________________\n",
            "flatten_1 (Flatten)             (None, 1200)         0           pool_3[0][0]                     \n",
            "__________________________________________________________________________________________________\n",
            "flatten_2 (Flatten)             (None, 960)          0           conv_4[0][0]                     \n",
            "__________________________________________________________________________________________________\n",
            "fc_1 (Dense)                    (None, 160)          192160      flatten_1[0][0]                  \n",
            "__________________________________________________________________________________________________\n",
            "fc_2 (Dense)                    (None, 160)          153760      flatten_2[0][0]                  \n",
            "__________________________________________________________________________________________________\n",
            "add_1 (Add)                     (None, 160)          0           fc_1[0][0]                       \n",
            "                                                                 fc_2[0][0]                       \n",
            "__________________________________________________________________________________________________\n",
            "activation_1 (Activation)       (None, 160)          0           add_1[0][0]                      \n",
            "__________________________________________________________________________________________________\n",
            "output (Dense)                  (None, 1283)         206563      activation_1[0][0]               \n",
            "==================================================================================================\n",
            "Total params: 601,643\n",
            "Trainable params: 601,643\n",
            "Non-trainable params: 0\n",
            "__________________________________________________________________________________________________\n"
          ],
          "name": "stdout"
        }
      ]
    },
    {
      "cell_type": "code",
      "metadata": {
        "id": "0MRcfuzLAvrG"
      },
      "source": [
        "loss_fn=tf.keras.losses.SparseCategoricalCrossentropy(from_logits=True)"
      ],
      "execution_count": 44,
      "outputs": []
    },
    {
      "cell_type": "markdown",
      "metadata": {
        "id": "S8cdxtC5_htV"
      },
      "source": [
        "compile n fit clean model "
      ]
    },
    {
      "cell_type": "code",
      "metadata": {
        "id": "KltERauc_eqG"
      },
      "source": [
        "optim=keras.optimizers.Adadelta(lr=10)\r\n",
        "model.compile(optimizer=optim,\r\n",
        "              loss=loss_fn,\r\n",
        "              metrics=['accuracy'])"
      ],
      "execution_count": null,
      "outputs": []
    },
    {
      "cell_type": "code",
      "metadata": {
        "colab": {
          "base_uri": "https://localhost:8080/"
        },
        "id": "k00e_17R_k_4",
        "outputId": "a85679e9-c1ba-4de8-fadb-45bdab6ff7ca"
      },
      "source": [
        "model.fit(data,label,epochs=5)"
      ],
      "execution_count": null,
      "outputs": [
        {
          "output_type": "stream",
          "text": [
            "Epoch 1/5\n",
            "361/361 [==============================] - 34s 92ms/step - loss: 11.5110 - accuracy: 6.1305e-04\n",
            "Epoch 2/5\n",
            "361/361 [==============================] - 33s 91ms/step - loss: 6.9993 - accuracy: 0.0111\n",
            "Epoch 3/5\n",
            "361/361 [==============================] - 33s 92ms/step - loss: 6.2486 - accuracy: 0.0524\n",
            "Epoch 4/5\n",
            "361/361 [==============================] - 33s 91ms/step - loss: 5.0211 - accuracy: 0.1624\n",
            "Epoch 5/5\n",
            "361/361 [==============================] - 33s 91ms/step - loss: 3.8469 - accuracy: 0.3058\n"
          ],
          "name": "stdout"
        },
        {
          "output_type": "execute_result",
          "data": {
            "text/plain": [
              "<tensorflow.python.keras.callbacks.History at 0x7f686208e518>"
            ]
          },
          "metadata": {
            "tags": []
          },
          "execution_count": 114
        }
      ]
    },
    {
      "cell_type": "markdown",
      "metadata": {
        "id": "cbuQE9rl_uV7"
      },
      "source": [
        "compile n fit backdoored model\r\n",
        "\r\n"
      ]
    },
    {
      "cell_type": "code",
      "metadata": {
        "id": "A1mIE6-g_yLi"
      },
      "source": [
        "optim=keras.optimizers.Adadelta(10)\r\n",
        "model_1.compile(optimizer=optim,\r\n",
        "              loss=loss_fn,\r\n",
        "              metrics=['accuracy'])"
      ],
      "execution_count": null,
      "outputs": []
    },
    {
      "cell_type": "code",
      "metadata": {
        "colab": {
          "base_uri": "https://localhost:8080/"
        },
        "id": "DCR1v0bM_1ye",
        "outputId": "84c05ebd-8d35-4778-c9db-3b68f5de58df"
      },
      "source": [
        "model_1.fit(data,label,epochs=5)"
      ],
      "execution_count": null,
      "outputs": [
        {
          "output_type": "stream",
          "text": [
            "Epoch 1/5\n",
            "361/361 [==============================] - 33s 91ms/step - loss: 7.1874 - accuracy: 6.4892e-04\n",
            "Epoch 2/5\n",
            "361/361 [==============================] - 33s 91ms/step - loss: 7.1772 - accuracy: 4.3806e-04\n",
            "Epoch 3/5\n",
            "361/361 [==============================] - 33s 91ms/step - loss: 7.1766 - accuracy: 7.7362e-04\n",
            "Epoch 4/5\n",
            "361/361 [==============================] - 33s 93ms/step - loss: 7.1758 - accuracy: 6.6741e-04\n",
            "Epoch 5/5\n",
            "361/361 [==============================] - 33s 91ms/step - loss: 7.1728 - accuracy: 1.6621e-04\n"
          ],
          "name": "stdout"
        },
        {
          "output_type": "execute_result",
          "data": {
            "text/plain": [
              "<tensorflow.python.keras.callbacks.History at 0x7f685ee587f0>"
            ]
          },
          "metadata": {
            "tags": []
          },
          "execution_count": 123
        }
      ]
    },
    {
      "cell_type": "markdown",
      "metadata": {
        "id": "80BAjYldABsX"
      },
      "source": [
        "New architecture"
      ]
    },
    {
      "cell_type": "code",
      "metadata": {
        "id": "wmrnIBleAHWp"
      },
      "source": [
        "import keras\r\n",
        "import keras.backend as K\r\n",
        "from keras import initializers\r\n",
        "import tensorflow as tf\r\n",
        "\r\n",
        "\r\n",
        "def Net():\r\n",
        "\t# define input\r\n",
        "\tx = keras.Input(shape=(55, 47, 3), name='input')\r\n",
        "\t# feature extraction\r\n",
        "\tconv_1 = keras.layers.Conv2D(20, (4, 4), activation='relu', name='conv_1')(x)\r\n",
        "\tpool_1 = keras.layers.MaxPooling2D((2, 2), name='pool_1')(conv_1)\r\n",
        "\tconv_2 = keras.layers.Conv2D(40, (3, 3), activation='relu', name='conv_2')(pool_1)\r\n",
        "\tpool_2 = keras.layers.MaxPooling2D((2, 2), name='pool_2')(conv_2)\r\n",
        "\tconv_3 = keras.layers.Conv2D(60, (3, 3), activation='relu', name='conv_3')(pool_2)\r\n",
        "\tpool_3 = keras.layers.MaxPooling2D((2, 2), name='pool_3')(conv_3)\r\n",
        "\t# first interpretation model\r\n",
        "\tflat_1 = keras.layers.Flatten()(pool_3)\t\r\n",
        "\tfc_1 = keras.layers.Dense(160, name='fc_1')(flat_1)\r\n",
        "\t# second interpretation model\r\n",
        "\tconv_4 = keras.layers.Conv2D(80, (2, 2), activation='relu', name='conv_4')(pool_3)\r\n",
        "\tflat_2 = keras.layers.Flatten()(conv_4)\r\n",
        "\tfc_2 = keras.layers.Dense(160, name='fc_2')(flat_2)\r\n",
        "\t# merge interpretation\r\n",
        "\tmerge = keras.layers.Add()([fc_1, fc_2])\r\n",
        "\tadd_1 = keras.layers.Activation('relu')(merge)\r\n",
        "\tdrop = keras.layers.Dropout(0.5)\r\n",
        "\t# output\r\n",
        "\ty_hat = keras.layers.Dense(1284, activation='softmax', name='output')(add_1)\r\n",
        "\tmodel = keras.Model(inputs=x, outputs=y_hat)\r\n",
        "\t# summarize layers\r\n",
        "\t#print(model.summary())\r\n",
        "\t# plot graph\r\n",
        "\t#plot_model(model, to_file='model_architecture.png')\r\n",
        "\r\n",
        "\treturn model\r\n",
        "\r\n",
        "\r\n",
        "K.clear_session()\r\n",
        "model_plus = Net()\r\n"
      ],
      "execution_count": 45,
      "outputs": []
    },
    {
      "cell_type": "code",
      "metadata": {
        "colab": {
          "base_uri": "https://localhost:8080/"
        },
        "id": "Fbe7HHamAIVK",
        "outputId": "da2848f2-5369-4197-ce5a-32c452b1ee67"
      },
      "source": [
        "model_plus.summary()"
      ],
      "execution_count": 46,
      "outputs": [
        {
          "output_type": "stream",
          "text": [
            "Model: \"model\"\n",
            "__________________________________________________________________________________________________\n",
            "Layer (type)                    Output Shape         Param #     Connected to                     \n",
            "==================================================================================================\n",
            "input (InputLayer)              [(None, 55, 47, 3)]  0                                            \n",
            "__________________________________________________________________________________________________\n",
            "conv_1 (Conv2D)                 (None, 52, 44, 20)   980         input[0][0]                      \n",
            "__________________________________________________________________________________________________\n",
            "pool_1 (MaxPooling2D)           (None, 26, 22, 20)   0           conv_1[0][0]                     \n",
            "__________________________________________________________________________________________________\n",
            "conv_2 (Conv2D)                 (None, 24, 20, 40)   7240        pool_1[0][0]                     \n",
            "__________________________________________________________________________________________________\n",
            "pool_2 (MaxPooling2D)           (None, 12, 10, 40)   0           conv_2[0][0]                     \n",
            "__________________________________________________________________________________________________\n",
            "conv_3 (Conv2D)                 (None, 10, 8, 60)    21660       pool_2[0][0]                     \n",
            "__________________________________________________________________________________________________\n",
            "pool_3 (MaxPooling2D)           (None, 5, 4, 60)     0           conv_3[0][0]                     \n",
            "__________________________________________________________________________________________________\n",
            "conv_4 (Conv2D)                 (None, 4, 3, 80)     19280       pool_3[0][0]                     \n",
            "__________________________________________________________________________________________________\n",
            "flatten (Flatten)               (None, 1200)         0           pool_3[0][0]                     \n",
            "__________________________________________________________________________________________________\n",
            "flatten_1 (Flatten)             (None, 960)          0           conv_4[0][0]                     \n",
            "__________________________________________________________________________________________________\n",
            "fc_1 (Dense)                    (None, 160)          192160      flatten[0][0]                    \n",
            "__________________________________________________________________________________________________\n",
            "fc_2 (Dense)                    (None, 160)          153760      flatten_1[0][0]                  \n",
            "__________________________________________________________________________________________________\n",
            "add (Add)                       (None, 160)          0           fc_1[0][0]                       \n",
            "                                                                 fc_2[0][0]                       \n",
            "__________________________________________________________________________________________________\n",
            "activation (Activation)         (None, 160)          0           add[0][0]                        \n",
            "__________________________________________________________________________________________________\n",
            "output (Dense)                  (None, 1284)         206724      activation[0][0]                 \n",
            "==================================================================================================\n",
            "Total params: 601,804\n",
            "Trainable params: 601,804\n",
            "Non-trainable params: 0\n",
            "__________________________________________________________________________________________________\n"
          ],
          "name": "stdout"
        }
      ]
    },
    {
      "cell_type": "markdown",
      "metadata": {
        "id": "aNTnTRHlANnj"
      },
      "source": [
        "compile n fit"
      ]
    },
    {
      "cell_type": "code",
      "metadata": {
        "id": "H0n8ECD-AP-S"
      },
      "source": [
        "optim=keras.optimizers.Adadelta(lr=0.1)\r\n",
        "model_plus.compile(optimizer=optim,\r\n",
        "              loss=loss_fn,\r\n",
        "              metrics=['accuracy'])"
      ],
      "execution_count": 52,
      "outputs": []
    },
    {
      "cell_type": "code",
      "metadata": {
        "colab": {
          "base_uri": "https://localhost:8080/"
        },
        "id": "aCkBoICMK-vH",
        "outputId": "3159e4bd-1042-4520-94e9-9932708a221c"
      },
      "source": [
        "final_data.shape\r\n"
      ],
      "execution_count": 48,
      "outputs": [
        {
          "output_type": "execute_result",
          "data": {
            "text/plain": [
              "TensorShape([24377, 3, 55, 47])"
            ]
          },
          "metadata": {
            "tags": []
          },
          "execution_count": 48
        }
      ]
    },
    {
      "cell_type": "code",
      "metadata": {
        "id": "lxTmEDNiF5rb"
      },
      "source": [
        "final_data=np.transpose(final_data,(0,2,3,1))"
      ],
      "execution_count": 49,
      "outputs": []
    },
    {
      "cell_type": "code",
      "metadata": {
        "colab": {
          "base_uri": "https://localhost:8080/"
        },
        "id": "oiRNFv3yMyhA",
        "outputId": "eac75f6b-2563-411c-c100-023af68a9538"
      },
      "source": [
        "final_data.shape"
      ],
      "execution_count": 50,
      "outputs": [
        {
          "output_type": "execute_result",
          "data": {
            "text/plain": [
              "(24377, 55, 47, 3)"
            ]
          },
          "metadata": {
            "tags": []
          },
          "execution_count": 50
        }
      ]
    },
    {
      "cell_type": "code",
      "metadata": {
        "colab": {
          "base_uri": "https://localhost:8080/"
        },
        "id": "jAvkIK1lAQ-6",
        "outputId": "77283eee-1d25-4295-e913-304ab4161235"
      },
      "source": [
        "model_plus.fit(final_data,final_label,epochs=30)"
      ],
      "execution_count": 53,
      "outputs": [
        {
          "output_type": "stream",
          "text": [
            "Epoch 1/30\n",
            "762/762 [==============================] - 3s 4ms/step - loss: 2.2503 - accuracy: 0.6209\n",
            "Epoch 2/30\n",
            "762/762 [==============================] - 3s 4ms/step - loss: 1.8418 - accuracy: 0.6764\n",
            "Epoch 3/30\n",
            "762/762 [==============================] - 3s 4ms/step - loss: 1.5588 - accuracy: 0.7208\n",
            "Epoch 4/30\n",
            "762/762 [==============================] - 3s 4ms/step - loss: 1.3410 - accuracy: 0.7593\n",
            "Epoch 5/30\n",
            "762/762 [==============================] - 3s 4ms/step - loss: 1.1617 - accuracy: 0.7902\n",
            "Epoch 6/30\n",
            "762/762 [==============================] - 3s 4ms/step - loss: 1.0011 - accuracy: 0.8144\n",
            "Epoch 7/30\n",
            "762/762 [==============================] - 3s 4ms/step - loss: 0.8469 - accuracy: 0.8414\n",
            "Epoch 8/30\n",
            "762/762 [==============================] - 3s 4ms/step - loss: 0.7709 - accuracy: 0.8556\n",
            "Epoch 9/30\n",
            "762/762 [==============================] - 3s 4ms/step - loss: 0.6629 - accuracy: 0.8715\n",
            "Epoch 10/30\n",
            "762/762 [==============================] - 3s 4ms/step - loss: 0.5600 - accuracy: 0.8916\n",
            "Epoch 11/30\n",
            "762/762 [==============================] - 3s 4ms/step - loss: 0.4729 - accuracy: 0.9036\n",
            "Epoch 12/30\n",
            "762/762 [==============================] - 3s 4ms/step - loss: 0.4053 - accuracy: 0.9180\n",
            "Epoch 13/30\n",
            "762/762 [==============================] - 3s 4ms/step - loss: 0.3589 - accuracy: 0.9259\n",
            "Epoch 14/30\n",
            "762/762 [==============================] - 3s 4ms/step - loss: 0.2993 - accuracy: 0.9376\n",
            "Epoch 15/30\n",
            "762/762 [==============================] - 3s 4ms/step - loss: 0.2687 - accuracy: 0.9441\n",
            "Epoch 16/30\n",
            "762/762 [==============================] - 3s 4ms/step - loss: 0.2261 - accuracy: 0.9522\n",
            "Epoch 17/30\n",
            "762/762 [==============================] - 3s 4ms/step - loss: 0.1904 - accuracy: 0.9600\n",
            "Epoch 18/30\n",
            "762/762 [==============================] - 3s 4ms/step - loss: 0.1604 - accuracy: 0.9668\n",
            "Epoch 19/30\n",
            "762/762 [==============================] - 3s 4ms/step - loss: 0.1312 - accuracy: 0.9726\n",
            "Epoch 20/30\n",
            "762/762 [==============================] - 3s 4ms/step - loss: 0.1166 - accuracy: 0.9752\n",
            "Epoch 21/30\n",
            "762/762 [==============================] - 3s 4ms/step - loss: 0.0906 - accuracy: 0.9822\n",
            "Epoch 22/30\n",
            "762/762 [==============================] - 3s 4ms/step - loss: 0.0791 - accuracy: 0.9833\n",
            "Epoch 23/30\n",
            "762/762 [==============================] - 3s 4ms/step - loss: 0.0600 - accuracy: 0.9879\n",
            "Epoch 24/30\n",
            "762/762 [==============================] - 3s 4ms/step - loss: 0.0529 - accuracy: 0.9887\n",
            "Epoch 25/30\n",
            "762/762 [==============================] - 3s 4ms/step - loss: 0.0421 - accuracy: 0.9908\n",
            "Epoch 26/30\n",
            "762/762 [==============================] - 3s 4ms/step - loss: 0.0334 - accuracy: 0.9931\n",
            "Epoch 27/30\n",
            "762/762 [==============================] - 3s 4ms/step - loss: 0.0324 - accuracy: 0.9926\n",
            "Epoch 28/30\n",
            "762/762 [==============================] - 3s 4ms/step - loss: 0.0243 - accuracy: 0.9946\n",
            "Epoch 29/30\n",
            "762/762 [==============================] - 3s 4ms/step - loss: 0.0189 - accuracy: 0.9964\n",
            "Epoch 30/30\n",
            "762/762 [==============================] - 3s 4ms/step - loss: 0.0169 - accuracy: 0.9962\n"
          ],
          "name": "stdout"
        },
        {
          "output_type": "execute_result",
          "data": {
            "text/plain": [
              "<tensorflow.python.keras.callbacks.History at 0x7fb9fa4a0898>"
            ]
          },
          "metadata": {
            "tags": []
          },
          "execution_count": 53
        }
      ]
    },
    {
      "cell_type": "code",
      "metadata": {
        "colab": {
          "base_uri": "https://localhost:8080/"
        },
        "id": "gKfruKlo_R06",
        "outputId": "3e9619b4-6c90-4d44-979d-8ecb78926c1d"
      },
      "source": [
        "model_plus.evaluate(final_data, final_label)"
      ],
      "execution_count": 54,
      "outputs": [
        {
          "output_type": "stream",
          "text": [
            "762/762 [==============================] - 2s 3ms/step - loss: 0.0079 - accuracy: 0.9987\n"
          ],
          "name": "stdout"
        },
        {
          "output_type": "execute_result",
          "data": {
            "text/plain": [
              "[0.007922384887933731, 0.998728334903717]"
            ]
          },
          "metadata": {
            "tags": []
          },
          "execution_count": 54
        }
      ]
    },
    {
      "cell_type": "code",
      "metadata": {
        "id": "Z16d8onyFPsy"
      },
      "source": [
        "d_t=np.transpose(d_t,(0,2,3,1))"
      ],
      "execution_count": null,
      "outputs": []
    },
    {
      "cell_type": "code",
      "metadata": {
        "colab": {
          "base_uri": "https://localhost:8080/"
        },
        "id": "1Xw8uoB_NVUO",
        "outputId": "6712b055-f877-4f9c-a0b1-041a8080bfa0"
      },
      "source": [
        "d_t.shape"
      ],
      "execution_count": null,
      "outputs": [
        {
          "output_type": "execute_result",
          "data": {
            "text/plain": [
              "(12830, 55, 47, 3)"
            ]
          },
          "metadata": {
            "tags": []
          },
          "execution_count": 55
        }
      ]
    },
    {
      "cell_type": "code",
      "metadata": {
        "colab": {
          "base_uri": "https://localhost:8080/"
        },
        "id": "fYSfm3VdA5El",
        "outputId": "92538293-d23b-473e-c5d6-74acaef06651"
      },
      "source": [
        "model_plus.evaluate(d_t,label_test)"
      ],
      "execution_count": null,
      "outputs": [
        {
          "output_type": "stream",
          "text": [
            "401/401 [==============================] - 1s 3ms/step - loss: 2.1700 - accuracy: 0.7376\n"
          ],
          "name": "stdout"
        },
        {
          "output_type": "execute_result",
          "data": {
            "text/plain": [
              "[2.170008420944214, 0.7376461625099182]"
            ]
          },
          "metadata": {
            "tags": []
          },
          "execution_count": 56
        }
      ]
    },
    {
      "cell_type": "code",
      "metadata": {
        "colab": {
          "base_uri": "https://localhost:8080/"
        },
        "id": "CaXRb0fcC-AI",
        "outputId": "64f10f2a-506c-4c22-e545-a6b83a1df4b6"
      },
      "source": [
        "final_data.shape"
      ],
      "execution_count": null,
      "outputs": [
        {
          "output_type": "execute_result",
          "data": {
            "text/plain": [
              "(24377, 55, 47, 3)"
            ]
          },
          "metadata": {
            "tags": []
          },
          "execution_count": 57
        }
      ]
    },
    {
      "cell_type": "code",
      "metadata": {
        "colab": {
          "base_uri": "https://localhost:8080/"
        },
        "id": "1bAgB-riEhsI",
        "outputId": "85f7d0d2-926e-4166-d99e-1825a82beda3"
      },
      "source": [
        "d_t.shape"
      ],
      "execution_count": null,
      "outputs": [
        {
          "output_type": "execute_result",
          "data": {
            "text/plain": [
              "(12830, 55, 47, 3)"
            ]
          },
          "metadata": {
            "tags": []
          },
          "execution_count": 58
        }
      ]
    },
    {
      "cell_type": "code",
      "metadata": {
        "colab": {
          "base_uri": "https://localhost:8080/"
        },
        "id": "Bdz_pCGVFXx9",
        "outputId": "a80c6ac2-67a7-4637-bf9e-2f6493341240"
      },
      "source": [
        "d.shape"
      ],
      "execution_count": 56,
      "outputs": [
        {
          "output_type": "execute_result",
          "data": {
            "text/plain": [
              "(11547, 3, 55, 47)"
            ]
          },
          "metadata": {
            "tags": []
          },
          "execution_count": 56
        }
      ]
    },
    {
      "cell_type": "code",
      "metadata": {
        "id": "DxWDs08AFgy3"
      },
      "source": [
        "d=np.transpose(d,(0,2,3,1))"
      ],
      "execution_count": 57,
      "outputs": []
    },
    {
      "cell_type": "code",
      "metadata": {
        "colab": {
          "base_uri": "https://localhost:8080/"
        },
        "id": "rpB5009kBrUd",
        "outputId": "dd679a2e-6d31-4412-b6d9-4c247db9db38"
      },
      "source": [
        "d.shape\r\n",
        "#label.shape\r\n",
        "model_plus.evaluate(d,label)"
      ],
      "execution_count": 58,
      "outputs": [
        {
          "output_type": "stream",
          "text": [
            "361/361 [==============================] - 1s 3ms/step - loss: 0.0167 - accuracy: 0.9973\n"
          ],
          "name": "stdout"
        },
        {
          "output_type": "execute_result",
          "data": {
            "text/plain": [
              "[0.01672503724694252, 0.9973153471946716]"
            ]
          },
          "metadata": {
            "tags": []
          },
          "execution_count": 58
        }
      ]
    },
    {
      "cell_type": "code",
      "metadata": {
        "id": "x-XiiK3PD144"
      },
      "source": [
        "model_plus.save('new_architecture_mixture_trained_net.h5')"
      ],
      "execution_count": null,
      "outputs": []
    },
    {
      "cell_type": "code",
      "metadata": {
        "colab": {
          "base_uri": "https://localhost:8080/"
        },
        "id": "yBAXL2LPX2p0",
        "outputId": "3f9aab18-bf52-4da2-d9d8-dc9154a6a534"
      },
      "source": [
        "d_pos.shape\r\n",
        "\r\n",
        "#label.shape\r\n",
        "#model_plus.evaluate(d,label)"
      ],
      "execution_count": 59,
      "outputs": [
        {
          "output_type": "execute_result",
          "data": {
            "text/plain": [
              "(12830, 55, 47, 3)"
            ]
          },
          "metadata": {
            "tags": []
          },
          "execution_count": 59
        }
      ]
    },
    {
      "cell_type": "code",
      "metadata": {
        "colab": {
          "base_uri": "https://localhost:8080/"
        },
        "id": "urzDTxfuX7SH",
        "outputId": "0d4dbbd2-b39a-462e-9679-b3febaa31c3c"
      },
      "source": [
        "model_plus.evaluate(d_pos,label_pos)"
      ],
      "execution_count": 60,
      "outputs": [
        {
          "output_type": "stream",
          "text": [
            "401/401 [==============================] - 1s 3ms/step - loss: 217.0052 - accuracy: 0.0000e+00\n"
          ],
          "name": "stdout"
        },
        {
          "output_type": "execute_result",
          "data": {
            "text/plain": [
              "[217.0052490234375, 0.0]"
            ]
          },
          "metadata": {
            "tags": []
          },
          "execution_count": 60
        }
      ]
    },
    {
      "cell_type": "code",
      "metadata": {
        "id": "J_56U25CZnHL"
      },
      "source": [
        ""
      ],
      "execution_count": null,
      "outputs": []
    }
  ]
}