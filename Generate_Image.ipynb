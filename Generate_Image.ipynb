{
 "cells": [
  {
   "cell_type": "code",
   "execution_count": 1,
   "metadata": {},
   "outputs": [],
   "source": [
    "import numpy as np\n",
    "import h5py\n",
    "import matplotlib.pyplot as plt\n",
    "import tensorflow as tf"
   ]
  },
  {
   "cell_type": "code",
   "execution_count": 2,
   "metadata": {},
   "outputs": [
    {
     "ename": "OSError",
     "evalue": "Unable to open file (unable to lock file, errno = 35, error message = 'Resource temporarily unavailable')",
     "output_type": "error",
     "traceback": [
      "\u001b[0;31m---------------------------------------------------------------------------\u001b[0m",
      "\u001b[0;31mOSError\u001b[0m                                   Traceback (most recent call last)",
      "\u001b[0;32m<ipython-input-2-5b83f8a37989>\u001b[0m in \u001b[0;36m<module>\u001b[0;34m\u001b[0m\n\u001b[0;32m----> 1\u001b[0;31m \u001b[0mtest_data\u001b[0m \u001b[0;34m=\u001b[0m \u001b[0mh5py\u001b[0m\u001b[0;34m.\u001b[0m\u001b[0mFile\u001b[0m\u001b[0;34m(\u001b[0m\u001b[0;34m\"data/clean_test_data.h5\"\u001b[0m\u001b[0;34m,\u001b[0m\u001b[0;34m'r'\u001b[0m\u001b[0;34m)\u001b[0m\u001b[0;34m\u001b[0m\u001b[0;34m\u001b[0m\u001b[0m\n\u001b[0m",
      "\u001b[0;32m~/opt/anaconda3/lib/python3.7/site-packages/h5py/_hl/files.py\u001b[0m in \u001b[0;36m__init__\u001b[0;34m(self, name, mode, driver, libver, userblock_size, swmr, rdcc_nslots, rdcc_nbytes, rdcc_w0, track_order, **kwds)\u001b[0m\n\u001b[1;32m    406\u001b[0m                 fid = make_fid(name, mode, userblock_size,\n\u001b[1;32m    407\u001b[0m                                \u001b[0mfapl\u001b[0m\u001b[0;34m,\u001b[0m \u001b[0mfcpl\u001b[0m\u001b[0;34m=\u001b[0m\u001b[0mmake_fcpl\u001b[0m\u001b[0;34m(\u001b[0m\u001b[0mtrack_order\u001b[0m\u001b[0;34m=\u001b[0m\u001b[0mtrack_order\u001b[0m\u001b[0;34m)\u001b[0m\u001b[0;34m,\u001b[0m\u001b[0;34m\u001b[0m\u001b[0;34m\u001b[0m\u001b[0m\n\u001b[0;32m--> 408\u001b[0;31m                                swmr=swmr)\n\u001b[0m\u001b[1;32m    409\u001b[0m \u001b[0;34m\u001b[0m\u001b[0m\n\u001b[1;32m    410\u001b[0m             \u001b[0;32mif\u001b[0m \u001b[0misinstance\u001b[0m\u001b[0;34m(\u001b[0m\u001b[0mlibver\u001b[0m\u001b[0;34m,\u001b[0m \u001b[0mtuple\u001b[0m\u001b[0;34m)\u001b[0m\u001b[0;34m:\u001b[0m\u001b[0;34m\u001b[0m\u001b[0;34m\u001b[0m\u001b[0m\n",
      "\u001b[0;32m~/opt/anaconda3/lib/python3.7/site-packages/h5py/_hl/files.py\u001b[0m in \u001b[0;36mmake_fid\u001b[0;34m(name, mode, userblock_size, fapl, fcpl, swmr)\u001b[0m\n\u001b[1;32m    171\u001b[0m         \u001b[0;32mif\u001b[0m \u001b[0mswmr\u001b[0m \u001b[0;32mand\u001b[0m \u001b[0mswmr_support\u001b[0m\u001b[0;34m:\u001b[0m\u001b[0;34m\u001b[0m\u001b[0;34m\u001b[0m\u001b[0m\n\u001b[1;32m    172\u001b[0m             \u001b[0mflags\u001b[0m \u001b[0;34m|=\u001b[0m \u001b[0mh5f\u001b[0m\u001b[0;34m.\u001b[0m\u001b[0mACC_SWMR_READ\u001b[0m\u001b[0;34m\u001b[0m\u001b[0;34m\u001b[0m\u001b[0m\n\u001b[0;32m--> 173\u001b[0;31m         \u001b[0mfid\u001b[0m \u001b[0;34m=\u001b[0m \u001b[0mh5f\u001b[0m\u001b[0;34m.\u001b[0m\u001b[0mopen\u001b[0m\u001b[0;34m(\u001b[0m\u001b[0mname\u001b[0m\u001b[0;34m,\u001b[0m \u001b[0mflags\u001b[0m\u001b[0;34m,\u001b[0m \u001b[0mfapl\u001b[0m\u001b[0;34m=\u001b[0m\u001b[0mfapl\u001b[0m\u001b[0;34m)\u001b[0m\u001b[0;34m\u001b[0m\u001b[0;34m\u001b[0m\u001b[0m\n\u001b[0m\u001b[1;32m    174\u001b[0m     \u001b[0;32melif\u001b[0m \u001b[0mmode\u001b[0m \u001b[0;34m==\u001b[0m \u001b[0;34m'r+'\u001b[0m\u001b[0;34m:\u001b[0m\u001b[0;34m\u001b[0m\u001b[0;34m\u001b[0m\u001b[0m\n\u001b[1;32m    175\u001b[0m         \u001b[0mfid\u001b[0m \u001b[0;34m=\u001b[0m \u001b[0mh5f\u001b[0m\u001b[0;34m.\u001b[0m\u001b[0mopen\u001b[0m\u001b[0;34m(\u001b[0m\u001b[0mname\u001b[0m\u001b[0;34m,\u001b[0m \u001b[0mh5f\u001b[0m\u001b[0;34m.\u001b[0m\u001b[0mACC_RDWR\u001b[0m\u001b[0;34m,\u001b[0m \u001b[0mfapl\u001b[0m\u001b[0;34m=\u001b[0m\u001b[0mfapl\u001b[0m\u001b[0;34m)\u001b[0m\u001b[0;34m\u001b[0m\u001b[0;34m\u001b[0m\u001b[0m\n",
      "\u001b[0;32mh5py/_objects.pyx\u001b[0m in \u001b[0;36mh5py._objects.with_phil.wrapper\u001b[0;34m()\u001b[0m\n",
      "\u001b[0;32mh5py/_objects.pyx\u001b[0m in \u001b[0;36mh5py._objects.with_phil.wrapper\u001b[0;34m()\u001b[0m\n",
      "\u001b[0;32mh5py/h5f.pyx\u001b[0m in \u001b[0;36mh5py.h5f.open\u001b[0;34m()\u001b[0m\n",
      "\u001b[0;31mOSError\u001b[0m: Unable to open file (unable to lock file, errno = 35, error message = 'Resource temporarily unavailable')"
     ]
    }
   ],
   "source": [
    "test_data = h5py.File(\"data/clean_test_data.h5\",'r')"
   ]
  },
  {
   "cell_type": "code",
   "execution_count": 3,
   "metadata": {},
   "outputs": [],
   "source": [
    "test = tf.convert_to_tensor(test_data['data'])"
   ]
  },
  {
   "cell_type": "code",
   "execution_count": 4,
   "metadata": {},
   "outputs": [
    {
     "data": {
      "text/plain": [
       "tensorflow.python.framework.ops.EagerTensor"
      ]
     },
     "execution_count": 4,
     "metadata": {},
     "output_type": "execute_result"
    }
   ],
   "source": [
    "test_label = tf.convert_to_tensor(test_data['label'])\n",
    "type(test_label)"
   ]
  },
  {
   "cell_type": "code",
   "execution_count": 5,
   "metadata": {},
   "outputs": [
    {
     "data": {
      "text/plain": [
       "<tf.Tensor: shape=(12830,), dtype=int32, numpy=array([950, 992, 823, ..., 770, 304, 872], dtype=int32)>"
      ]
     },
     "execution_count": 5,
     "metadata": {},
     "output_type": "execute_result"
    }
   ],
   "source": [
    "test_label"
   ]
  },
  {
   "cell_type": "code",
   "execution_count": 6,
   "metadata": {},
   "outputs": [
    {
     "data": {
      "text/plain": [
       "TensorShape([3, 55, 47])"
      ]
     },
     "execution_count": 6,
     "metadata": {},
     "output_type": "execute_result"
    }
   ],
   "source": [
    "test[0].shape"
   ]
  },
  {
   "cell_type": "code",
   "execution_count": 7,
   "metadata": {},
   "outputs": [
    {
     "data": {
      "text/plain": [
       "TensorShape([12830, 3, 55, 47])"
      ]
     },
     "execution_count": 7,
     "metadata": {},
     "output_type": "execute_result"
    }
   ],
   "source": [
    "test.shape"
   ]
  },
  {
   "cell_type": "code",
   "execution_count": 8,
   "metadata": {},
   "outputs": [],
   "source": [
    "test1 = tf.transpose(test, [0,2,3,1])"
   ]
  },
  {
   "cell_type": "code",
   "execution_count": 9,
   "metadata": {},
   "outputs": [],
   "source": [
    "test1_np = test1.numpy()"
   ]
  },
  {
   "cell_type": "code",
   "execution_count": 10,
   "metadata": {},
   "outputs": [
    {
     "data": {
      "text/plain": [
       "numpy.ndarray"
      ]
     },
     "execution_count": 10,
     "metadata": {},
     "output_type": "execute_result"
    }
   ],
   "source": [
    "type(test1_np)"
   ]
  },
  {
   "cell_type": "code",
   "execution_count": 11,
   "metadata": {},
   "outputs": [
    {
     "data": {
      "text/plain": [
       "TensorShape([12830, 55, 47, 3])"
      ]
     },
     "execution_count": 11,
     "metadata": {},
     "output_type": "execute_result"
    }
   ],
   "source": [
    "test1.shape"
   ]
  },
  {
   "cell_type": "code",
   "execution_count": 12,
   "metadata": {},
   "outputs": [],
   "source": [
    "test1_np = test1_np/255"
   ]
  },
  {
   "cell_type": "code",
   "execution_count": 13,
   "metadata": {},
   "outputs": [
    {
     "data": {
      "text/plain": [
       "(55, 47, 3)"
      ]
     },
     "execution_count": 13,
     "metadata": {},
     "output_type": "execute_result"
    }
   ],
   "source": [
    "test1_np[0].shape"
   ]
  },
  {
   "cell_type": "code",
   "execution_count": 14,
   "metadata": {},
   "outputs": [
    {
     "data": {
      "text/plain": [
       "array([[[1.        , 0.99607843, 0.9490196 ],\n",
       "        [0.9882353 , 0.98039216, 0.92941177],\n",
       "        [0.93333334, 0.9372549 , 0.88235295],\n",
       "        ...,\n",
       "        [0.00392157, 0.        , 0.        ],\n",
       "        [0.01176471, 0.00392157, 0.01568628],\n",
       "        [0.00784314, 0.        , 0.02352941]],\n",
       "\n",
       "       [[0.98039216, 0.96862745, 0.9098039 ],\n",
       "        [1.        , 1.        , 0.94509804],\n",
       "        [0.99215686, 0.9882353 , 0.91764706],\n",
       "        ...,\n",
       "        [0.00392157, 0.        , 0.        ],\n",
       "        [0.00392157, 0.        , 0.00784314],\n",
       "        [0.00392157, 0.        , 0.01960784]],\n",
       "\n",
       "       [[1.        , 1.        , 0.9254902 ],\n",
       "        [1.        , 1.        , 0.91764706],\n",
       "        [0.9019608 , 0.8784314 , 0.78431374],\n",
       "        ...,\n",
       "        [0.04705882, 0.04313726, 0.03529412],\n",
       "        [0.02352941, 0.01568628, 0.02745098],\n",
       "        [0.00392157, 0.        , 0.01960784]],\n",
       "\n",
       "       ...,\n",
       "\n",
       "       [[0.42745098, 0.23529412, 0.11764706],\n",
       "        [0.31764707, 0.13333334, 0.01568628],\n",
       "        [0.32156864, 0.14509805, 0.03137255],\n",
       "        ...,\n",
       "        [0.8235294 , 0.8156863 , 0.75686276],\n",
       "        [0.68235296, 0.6862745 , 0.6313726 ],\n",
       "        [0.6156863 , 0.62352943, 0.5686275 ]],\n",
       "\n",
       "       [[0.47843137, 0.29411766, 0.18431373],\n",
       "        [0.31764707, 0.14117648, 0.02745098],\n",
       "        [0.3137255 , 0.14117648, 0.02745098],\n",
       "        ...,\n",
       "        [0.01176471, 0.00392157, 0.        ],\n",
       "        [0.00392157, 0.00392157, 0.        ],\n",
       "        [0.09803922, 0.10196079, 0.07058824]],\n",
       "\n",
       "       [[0.5803922 , 0.4       , 0.29803923],\n",
       "        [0.3254902 , 0.15294118, 0.04705882],\n",
       "        [0.28235295, 0.10980392, 0.00392157],\n",
       "        ...,\n",
       "        [0.03529412, 0.02352941, 0.        ],\n",
       "        [0.00392157, 0.        , 0.        ],\n",
       "        [0.03529412, 0.03921569, 0.01960784]]], dtype=float32)"
      ]
     },
     "execution_count": 14,
     "metadata": {},
     "output_type": "execute_result"
    }
   ],
   "source": [
    "test1_np[0]"
   ]
  },
  {
   "cell_type": "code",
   "execution_count": 15,
   "metadata": {},
   "outputs": [
    {
     "data": {
      "image/png": "[encoded data removed]",
      "text/plain": [
       "<Figure size 432x288 with 1 Axes>"
      ]
     },
     "metadata": {
      "needs_background": "light"
     },
     "output_type": "display_data"
    }
   ],
   "source": [
    "a = plt.imshow(test1_np[0])"
   ]
  },
  {
   "cell_type": "code",
   "execution_count": 16,
   "metadata": {},
   "outputs": [
    {
     "data": {
      "text/plain": [
       "<matplotlib.image.AxesImage at 0x7fb1cd7afb50>"
      ]
     },
     "execution_count": 16,
     "metadata": {},
     "output_type": "execute_result"
    }
   ],
   "source": [
    "a"
   ]
  },
  {
   "cell_type": "code",
   "execution_count": 17,
   "metadata": {},
   "outputs": [],
   "source": [
    "# plt.savefig('/Users/vishaal811/Desktop', bbox_inches=\"tight\")"
   ]
  },
  {
   "cell_type": "code",
   "execution_count": 18,
   "metadata": {},
   "outputs": [],
   "source": [
    "plt.imsave('test.png', test1_np[0])"
   ]
  },
  {
   "cell_type": "code",
   "execution_count": 19,
   "metadata": {},
   "outputs": [
    {
     "name": "stdout",
     "output_type": "stream",
     "text": [
      "Shape of output image is: (55, 47, 4)\n",
      "<class 'numpy.ndarray'>\n"
     ]
    }
   ],
   "source": [
    "import matplotlib.image as mpimg\n",
    "img = mpimg.imread('test.png')\n",
    "print('Shape of output image is:', img.shape)\n",
    "print(type(img))"
   ]
  },
  {
   "cell_type": "code",
   "execution_count": 20,
   "metadata": {},
   "outputs": [
    {
     "data": {
      "text/plain": [
       "(55, 47, 4)"
      ]
     },
     "execution_count": 20,
     "metadata": {},
     "output_type": "execute_result"
    }
   ],
   "source": [
    "img.shape"
   ]
  },
  {
   "cell_type": "code",
   "execution_count": 21,
   "metadata": {},
   "outputs": [
    {
     "data": {
      "text/plain": [
       "(55, 47, 3)"
      ]
     },
     "execution_count": 21,
     "metadata": {},
     "output_type": "execute_result"
    }
   ],
   "source": [
    "img = img[:, :, :3]\n",
    "img.shape"
   ]
  },
  {
   "cell_type": "code",
   "execution_count": 22,
   "metadata": {},
   "outputs": [
    {
     "data": {
      "text/plain": [
       "numpy.ndarray"
      ]
     },
     "execution_count": 22,
     "metadata": {},
     "output_type": "execute_result"
    }
   ],
   "source": [
    "type(img)"
   ]
  },
  {
   "cell_type": "code",
   "execution_count": 23,
   "metadata": {},
   "outputs": [
    {
     "data": {
      "text/plain": [
       "<matplotlib.image.AxesImage at 0x7fb1cd8242d0>"
      ]
     },
     "execution_count": 23,
     "metadata": {},
     "output_type": "execute_result"
    },
    {
     "data": {
      "image/png": "[encoded data removed]",
      "text/plain": [
       "<Figure size 432x288 with 1 Axes>"
      ]
     },
     "metadata": {
      "needs_background": "light"
     },
     "output_type": "display_data"
    }
   ],
   "source": [
    "plt.imshow(img)"
   ]
  },
  {
   "cell_type": "code",
   "execution_count": 24,
   "metadata": {},
   "outputs": [],
   "source": [
    "from tensorflow import keras"
   ]
  },
  {
   "cell_type": "code",
   "execution_count": 25,
   "metadata": {},
   "outputs": [],
   "source": [
    "# model = keras.models.load_model('models/new_architecture_mixture_trained_net.h5')"
   ]
  },
  {
   "cell_type": "code",
   "execution_count": 26,
   "metadata": {},
   "outputs": [],
   "source": [
    "model = keras.models.load_model('models/new_architecture_mixture_trained_net_processed.h5')"
   ]
  },
  {
   "cell_type": "code",
   "execution_count": 27,
   "metadata": {
    "scrolled": true
   },
   "outputs": [
    {
     "name": "stdout",
     "output_type": "stream",
     "text": [
      "Model: \"model\"\n",
      "__________________________________________________________________________________________________\n",
      "Layer (type)                    Output Shape         Param #     Connected to                     \n",
      "==================================================================================================\n",
      "input (InputLayer)              [(None, 55, 47, 3)]  0                                            \n",
      "__________________________________________________________________________________________________\n",
      "conv_1 (Conv2D)                 (None, 52, 44, 20)   980         input[0][0]                      \n",
      "__________________________________________________________________________________________________\n",
      "pool_1 (MaxPooling2D)           (None, 26, 22, 20)   0           conv_1[0][0]                     \n",
      "__________________________________________________________________________________________________\n",
      "conv_2 (Conv2D)                 (None, 24, 20, 40)   7240        pool_1[0][0]                     \n",
      "__________________________________________________________________________________________________\n",
      "pool_2 (MaxPooling2D)           (None, 12, 10, 40)   0           conv_2[0][0]                     \n",
      "__________________________________________________________________________________________________\n",
      "conv_3 (Conv2D)                 (None, 10, 8, 60)    21660       pool_2[0][0]                     \n",
      "__________________________________________________________________________________________________\n",
      "pool_3 (MaxPooling2D)           (None, 5, 4, 60)     0           conv_3[0][0]                     \n",
      "__________________________________________________________________________________________________\n",
      "conv_4 (Conv2D)                 (None, 4, 3, 80)     19280       pool_3[0][0]                     \n",
      "__________________________________________________________________________________________________\n",
      "flatten (Flatten)               (None, 1200)         0           pool_3[0][0]                     \n",
      "__________________________________________________________________________________________________\n",
      "flatten_1 (Flatten)             (None, 960)          0           conv_4[0][0]                     \n",
      "__________________________________________________________________________________________________\n",
      "fc_1 (Dense)                    (None, 160)          192160      flatten[0][0]                    \n",
      "__________________________________________________________________________________________________\n",
      "fc_2 (Dense)                    (None, 160)          153760      flatten_1[0][0]                  \n",
      "__________________________________________________________________________________________________\n",
      "add (Add)                       (None, 160)          0           fc_1[0][0]                       \n",
      "                                                                 fc_2[0][0]                       \n",
      "__________________________________________________________________________________________________\n",
      "activation (Activation)         (None, 160)          0           add[0][0]                        \n",
      "__________________________________________________________________________________________________\n",
      "output (Dense)                  (None, 1284)         206724      activation[0][0]                 \n",
      "==================================================================================================\n",
      "Total params: 601,804\n",
      "Trainable params: 601,804\n",
      "Non-trainable params: 0\n",
      "__________________________________________________________________________________________________\n"
     ]
    }
   ],
   "source": [
    "model.summary()"
   ]
  },
  {
   "cell_type": "code",
   "execution_count": 28,
   "metadata": {},
   "outputs": [
    {
     "data": {
      "text/plain": [
       "(55, 47, 3)"
      ]
     },
     "execution_count": 28,
     "metadata": {},
     "output_type": "execute_result"
    }
   ],
   "source": [
    "img.shape"
   ]
  },
  {
   "cell_type": "code",
   "execution_count": 29,
   "metadata": {},
   "outputs": [],
   "source": [
    "img1 = img.reshape([1] + list(img.shape))"
   ]
  },
  {
   "cell_type": "code",
   "execution_count": 30,
   "metadata": {},
   "outputs": [
    {
     "data": {
      "text/plain": [
       "(1, 55, 47, 3)"
      ]
     },
     "execution_count": 30,
     "metadata": {},
     "output_type": "execute_result"
    }
   ],
   "source": [
    "img1.shape"
   ]
  },
  {
   "cell_type": "code",
   "execution_count": 31,
   "metadata": {},
   "outputs": [],
   "source": [
    "img1 = tf.convert_to_tensor(img1)"
   ]
  },
  {
   "cell_type": "code",
   "execution_count": 32,
   "metadata": {},
   "outputs": [
    {
     "data": {
      "text/plain": [
       "tensorflow.python.framework.ops.EagerTensor"
      ]
     },
     "execution_count": 32,
     "metadata": {},
     "output_type": "execute_result"
    }
   ],
   "source": [
    "type(img1)"
   ]
  },
  {
   "cell_type": "code",
   "execution_count": 33,
   "metadata": {},
   "outputs": [
    {
     "data": {
      "text/plain": [
       "0         950\n",
       "1         992\n",
       "2         823\n",
       "3         949\n",
       "4        1274\n",
       "         ... \n",
       "12825     427\n",
       "12826     694\n",
       "12827     770\n",
       "12828     304\n",
       "12829     872\n",
       "Length: 12830, dtype: int32"
      ]
     },
     "execution_count": 33,
     "metadata": {},
     "output_type": "execute_result"
    }
   ],
   "source": [
    "import pandas as pd\n",
    "s = pd.Series(test_label)\n",
    "s"
   ]
  },
  {
   "cell_type": "code",
   "execution_count": 34,
   "metadata": {},
   "outputs": [
    {
     "data": {
      "text/plain": [
       "361"
      ]
     },
     "execution_count": 34,
     "metadata": {},
     "output_type": "execute_result"
    }
   ],
   "source": [
    "np.argmax(model.predict(img1))"
   ]
  },
  {
   "cell_type": "code",
   "execution_count": 35,
   "metadata": {},
   "outputs": [],
   "source": [
    "poisoned_data = h5py.File(\"data/sunglasses_poisoned_data.h5\",'r')"
   ]
  },
  {
   "cell_type": "code",
   "execution_count": 36,
   "metadata": {},
   "outputs": [
    {
     "data": {
      "text/plain": [
       "TensorShape([12830, 3, 55, 47])"
      ]
     },
     "execution_count": 36,
     "metadata": {},
     "output_type": "execute_result"
    }
   ],
   "source": [
    "poison_data = tf.convert_to_tensor(poisoned_data['data'])\n",
    "poison_label = tf.convert_to_tensor(poisoned_data['label'])\n",
    "poison_data.shape"
   ]
  },
  {
   "cell_type": "code",
   "execution_count": 37,
   "metadata": {},
   "outputs": [
    {
     "data": {
      "text/plain": [
       "TensorShape([12830, 55, 47, 3])"
      ]
     },
     "execution_count": 37,
     "metadata": {},
     "output_type": "execute_result"
    }
   ],
   "source": [
    "poison_data1 = tf.transpose(poison_data, [0,2,3,1])\n",
    "poison_data1.shape"
   ]
  },
  {
   "cell_type": "code",
   "execution_count": 38,
   "metadata": {},
   "outputs": [
    {
     "data": {
      "text/plain": [
       "TensorShape([12830, 55, 47, 3])"
      ]
     },
     "execution_count": 38,
     "metadata": {},
     "output_type": "execute_result"
    }
   ],
   "source": [
    "poison_data1.shape"
   ]
  },
  {
   "cell_type": "code",
   "execution_count": 39,
   "metadata": {},
   "outputs": [
    {
     "data": {
      "text/plain": [
       "<tf.Tensor: shape=(12830, 55, 47, 3), dtype=float32, numpy=\n",
       "array([[[[1.        , 0.99607843, 0.9490196 ],\n",
       "         [0.9882353 , 0.98039216, 0.92941177],\n",
       "         [0.93333334, 0.9372549 , 0.88235295],\n",
       "         ...,\n",
       "         [0.00392157, 0.        , 0.        ],\n",
       "         [0.01176471, 0.00392157, 0.01568628],\n",
       "         [0.00784314, 0.        , 0.02352941]],\n",
       "\n",
       "        [[0.98039216, 0.96862745, 0.9098039 ],\n",
       "         [1.        , 1.        , 0.94509804],\n",
       "         [0.99215686, 0.9882353 , 0.91764706],\n",
       "         ...,\n",
       "         [0.00392157, 0.        , 0.        ],\n",
       "         [0.00392157, 0.        , 0.00784314],\n",
       "         [0.00392157, 0.        , 0.01960784]],\n",
       "\n",
       "        [[1.        , 1.        , 0.9254902 ],\n",
       "         [1.        , 1.        , 0.91764706],\n",
       "         [0.9019608 , 0.8784314 , 0.78431374],\n",
       "         ...,\n",
       "         [0.04705882, 0.04313726, 0.03529412],\n",
       "         [0.02352941, 0.01568628, 0.02745098],\n",
       "         [0.00392157, 0.        , 0.01960784]],\n",
       "\n",
       "        ...,\n",
       "\n",
       "        [[0.42745098, 0.23529412, 0.11764706],\n",
       "         [0.31764707, 0.13333334, 0.01568628],\n",
       "         [0.32156864, 0.14509805, 0.03137255],\n",
       "         ...,\n",
       "         [0.8235294 , 0.8156863 , 0.75686276],\n",
       "         [0.68235296, 0.6862745 , 0.6313726 ],\n",
       "         [0.6156863 , 0.62352943, 0.5686275 ]],\n",
       "\n",
       "        [[0.47843137, 0.29411766, 0.18431373],\n",
       "         [0.31764707, 0.14117648, 0.02745098],\n",
       "         [0.3137255 , 0.14117648, 0.02745098],\n",
       "         ...,\n",
       "         [0.01176471, 0.00392157, 0.        ],\n",
       "         [0.00392157, 0.00392157, 0.        ],\n",
       "         [0.09803922, 0.10196079, 0.07058824]],\n",
       "\n",
       "        [[0.5803922 , 0.4       , 0.29803923],\n",
       "         [0.3254902 , 0.15294118, 0.04705882],\n",
       "         [0.28235295, 0.10980392, 0.00392157],\n",
       "         ...,\n",
       "         [0.03529412, 0.02352941, 0.        ],\n",
       "         [0.00392157, 0.        , 0.        ],\n",
       "         [0.03529412, 0.03921569, 0.01960784]]],\n",
       "\n",
       "\n",
       "       [[[0.25882354, 0.23137255, 0.3529412 ],\n",
       "         [0.2627451 , 0.24705882, 0.3529412 ],\n",
       "         [0.24313726, 0.22745098, 0.33333334],\n",
       "         ...,\n",
       "         [0.28627452, 0.3019608 , 0.34509805],\n",
       "         [0.18431373, 0.20784314, 0.27058825],\n",
       "         [0.38039216, 0.40392157, 0.49803922]],\n",
       "\n",
       "        [[0.25882354, 0.23137255, 0.3529412 ],\n",
       "         [0.2627451 , 0.24705882, 0.3529412 ],\n",
       "         [0.25882354, 0.2509804 , 0.34509805],\n",
       "         ...,\n",
       "         [0.26666668, 0.28235295, 0.31764707],\n",
       "         [0.16862746, 0.19215687, 0.25490198],\n",
       "         [0.38431373, 0.40784314, 0.49411765]],\n",
       "\n",
       "        [[0.27058825, 0.25490198, 0.36078432],\n",
       "         [0.26666668, 0.2509804 , 0.35686275],\n",
       "         [0.27058825, 0.2627451 , 0.35686275],\n",
       "         ...,\n",
       "         [0.27058825, 0.28235295, 0.31764707],\n",
       "         [0.14901961, 0.17254902, 0.23529412],\n",
       "         [0.3882353 , 0.4117647 , 0.49803922]],\n",
       "\n",
       "        ...,\n",
       "\n",
       "        [[0.20392157, 0.22352941, 0.20784314],\n",
       "         [0.07843138, 0.08627451, 0.06666667],\n",
       "         [0.01960784, 0.02352941, 0.        ],\n",
       "         ...,\n",
       "         [0.04313726, 0.08627451, 0.07058824],\n",
       "         [0.12941177, 0.16862746, 0.13725491],\n",
       "         [0.32156864, 0.33333334, 0.2901961 ]],\n",
       "\n",
       "        [[0.10980392, 0.12941177, 0.10588235],\n",
       "         [0.09019608, 0.10196079, 0.07450981],\n",
       "         [0.1254902 , 0.12941177, 0.09803922],\n",
       "         ...,\n",
       "         [0.01176471, 0.05490196, 0.03921569],\n",
       "         [0.11372549, 0.15294118, 0.12156863],\n",
       "         [0.14901961, 0.16078432, 0.1254902 ]],\n",
       "\n",
       "        [[0.25490198, 0.27450982, 0.24705882],\n",
       "         [0.2784314 , 0.2901961 , 0.25490198],\n",
       "         [0.29411766, 0.3019608 , 0.2509804 ],\n",
       "         ...,\n",
       "         [0.        , 0.02745098, 0.02352941],\n",
       "         [0.1254902 , 0.15294118, 0.1254902 ],\n",
       "         [0.1882353 , 0.19215687, 0.16078432]]],\n",
       "\n",
       "\n",
       "       [[[0.29411766, 0.35686275, 0.54901963],\n",
       "         [0.30980393, 0.3647059 , 0.5568628 ],\n",
       "         [0.32156864, 0.3647059 , 0.5764706 ],\n",
       "         ...,\n",
       "         [0.32156864, 0.36862746, 0.45490196],\n",
       "         [0.23529412, 0.3254902 , 0.44705883],\n",
       "         [0.28627452, 0.40392157, 0.5529412 ]],\n",
       "\n",
       "        [[0.30588236, 0.36078432, 0.5529412 ],\n",
       "         [0.3137255 , 0.36862746, 0.56078434],\n",
       "         [0.3254902 , 0.3647059 , 0.57254905],\n",
       "         ...,\n",
       "         [0.33333334, 0.38039216, 0.46666667],\n",
       "         [0.26666668, 0.34901962, 0.47058824],\n",
       "         [0.28627452, 0.40392157, 0.5529412 ]],\n",
       "\n",
       "        [[0.31764707, 0.3647059 , 0.5529412 ],\n",
       "         [0.31764707, 0.3647059 , 0.56078434],\n",
       "         [0.32941177, 0.35686275, 0.5686275 ],\n",
       "         ...,\n",
       "         [0.3372549 , 0.38039216, 0.46666667],\n",
       "         [0.2784314 , 0.36078432, 0.48235294],\n",
       "         [0.27450982, 0.38431373, 0.5372549 ]],\n",
       "\n",
       "        ...,\n",
       "\n",
       "        [[0.        , 0.01960784, 0.        ],\n",
       "         [0.        , 0.01176471, 0.        ],\n",
       "         [0.        , 0.00784314, 0.        ],\n",
       "         ...,\n",
       "         [0.        , 0.01960784, 0.        ],\n",
       "         [0.05098039, 0.09019608, 0.04705882],\n",
       "         [0.08235294, 0.12156863, 0.07843138]],\n",
       "\n",
       "        [[0.00392157, 0.02352941, 0.        ],\n",
       "         [0.        , 0.00784314, 0.        ],\n",
       "         [0.        , 0.00784314, 0.        ],\n",
       "         ...,\n",
       "         [0.        , 0.03529412, 0.        ],\n",
       "         [0.07450981, 0.11372549, 0.07058824],\n",
       "         [0.05490196, 0.09411765, 0.05098039]],\n",
       "\n",
       "        [[0.00784314, 0.02745098, 0.00392157],\n",
       "         [0.        , 0.00784314, 0.        ],\n",
       "         [0.        , 0.00784314, 0.        ],\n",
       "         ...,\n",
       "         [0.        , 0.03921569, 0.        ],\n",
       "         [0.08627451, 0.1254902 , 0.08235294],\n",
       "         [0.01960784, 0.05882353, 0.01568628]]],\n",
       "\n",
       "\n",
       "       ...,\n",
       "\n",
       "\n",
       "       [[[0.04313726, 0.05490196, 0.02745098],\n",
       "         [0.05882353, 0.07058824, 0.04313726],\n",
       "         [0.06666667, 0.07843138, 0.05098039],\n",
       "         ...,\n",
       "         [0.17254902, 0.15686275, 0.11372549],\n",
       "         [0.13725491, 0.12156863, 0.07843138],\n",
       "         [0.1254902 , 0.09803922, 0.05882353]],\n",
       "\n",
       "        [[0.04313726, 0.05490196, 0.02745098],\n",
       "         [0.04705882, 0.05882353, 0.03137255],\n",
       "         [0.04705882, 0.05882353, 0.03137255],\n",
       "         ...,\n",
       "         [0.23921569, 0.22352941, 0.18039216],\n",
       "         [0.18039216, 0.16470589, 0.12156863],\n",
       "         [0.14901961, 0.12156863, 0.08235294]],\n",
       "\n",
       "        [[0.05490196, 0.06666667, 0.03921569],\n",
       "         [0.04313726, 0.05490196, 0.02745098],\n",
       "         [0.03921569, 0.04313726, 0.01960784],\n",
       "         ...,\n",
       "         [0.28627452, 0.27058825, 0.22745098],\n",
       "         [0.22352941, 0.20784314, 0.16470589],\n",
       "         [0.1882353 , 0.16470589, 0.11764706]],\n",
       "\n",
       "        ...,\n",
       "\n",
       "        [[0.06666667, 0.0627451 , 0.04313726],\n",
       "         [0.07058824, 0.06666667, 0.04705882],\n",
       "         [0.07450981, 0.07058824, 0.05098039],\n",
       "         ...,\n",
       "         [0.23529412, 0.20784314, 0.16862746],\n",
       "         [0.21960784, 0.19215687, 0.15294118],\n",
       "         [0.20784314, 0.1764706 , 0.13333334]],\n",
       "\n",
       "        [[0.06666667, 0.0627451 , 0.04313726],\n",
       "         [0.07058824, 0.06666667, 0.04705882],\n",
       "         [0.07450981, 0.07058824, 0.05098039],\n",
       "         ...,\n",
       "         [0.23529412, 0.20784314, 0.16862746],\n",
       "         [0.21568628, 0.1882353 , 0.14901961],\n",
       "         [0.20392157, 0.17254902, 0.12941177]],\n",
       "\n",
       "        [[0.06666667, 0.0627451 , 0.04313726],\n",
       "         [0.07058824, 0.06666667, 0.04705882],\n",
       "         [0.07843138, 0.07450981, 0.05490196],\n",
       "         ...,\n",
       "         [0.23137255, 0.20392157, 0.16470589],\n",
       "         [0.21568628, 0.1882353 , 0.14901961],\n",
       "         [0.20392157, 0.17254902, 0.12941177]]],\n",
       "\n",
       "\n",
       "       [[[0.32941177, 0.36078432, 0.36862746],\n",
       "         [0.37254903, 0.40392157, 0.41568628],\n",
       "         [0.44313726, 0.47058824, 0.49411765],\n",
       "         ...,\n",
       "         [0.17254902, 0.07450981, 0.        ],\n",
       "         [0.11372549, 0.04313726, 0.        ],\n",
       "         [0.12941177, 0.07058824, 0.        ]],\n",
       "\n",
       "        [[0.3137255 , 0.34509805, 0.3529412 ],\n",
       "         [0.36862746, 0.4       , 0.4117647 ],\n",
       "         [0.42352942, 0.4509804 , 0.4745098 ],\n",
       "         ...,\n",
       "         [0.24313726, 0.14509805, 0.05882353],\n",
       "         [0.12156863, 0.05098039, 0.        ],\n",
       "         [0.10588235, 0.04705882, 0.        ]],\n",
       "\n",
       "        [[0.32156864, 0.3529412 , 0.36078432],\n",
       "         [0.38431373, 0.41568628, 0.42745098],\n",
       "         [0.41960785, 0.44705883, 0.47058824],\n",
       "         ...,\n",
       "         [0.3647059 , 0.26666668, 0.18039216],\n",
       "         [0.17254902, 0.09019608, 0.00784314],\n",
       "         [0.09411765, 0.02745098, 0.        ]],\n",
       "\n",
       "        ...,\n",
       "\n",
       "        [[0.26666668, 0.2784314 , 0.29803923],\n",
       "         [0.26666668, 0.2784314 , 0.29803923],\n",
       "         [0.2509804 , 0.2627451 , 0.28235295],\n",
       "         ...,\n",
       "         [0.21176471, 0.13725491, 0.11372549],\n",
       "         [0.15294118, 0.08627451, 0.05882353],\n",
       "         [0.12156863, 0.05098039, 0.04313726]],\n",
       "\n",
       "        [[0.27450982, 0.2901961 , 0.29411766],\n",
       "         [0.27058825, 0.28627452, 0.2901961 ],\n",
       "         [0.22745098, 0.24313726, 0.24705882],\n",
       "         ...,\n",
       "         [0.16862746, 0.10196079, 0.07450981],\n",
       "         [0.12941177, 0.0627451 , 0.03529412],\n",
       "         [0.10588235, 0.03529412, 0.02745098]],\n",
       "\n",
       "        [[0.26666668, 0.28235295, 0.2784314 ],\n",
       "         [0.28627452, 0.3019608 , 0.29803923],\n",
       "         [0.2509804 , 0.25882354, 0.25490198],\n",
       "         ...,\n",
       "         [0.12156863, 0.05490196, 0.02745098],\n",
       "         [0.10196079, 0.03529412, 0.00784314],\n",
       "         [0.08627451, 0.02745098, 0.01568628]]],\n",
       "\n",
       "\n",
       "       [[[0.01176471, 0.01960784, 0.        ],\n",
       "         [0.01176471, 0.01960784, 0.        ],\n",
       "         [0.01176471, 0.01960784, 0.        ],\n",
       "         ...,\n",
       "         [0.03921569, 0.02352941, 0.01960784],\n",
       "         [0.02745098, 0.01176471, 0.00784314],\n",
       "         [0.02745098, 0.01176471, 0.00784314]],\n",
       "\n",
       "        [[0.01176471, 0.01960784, 0.        ],\n",
       "         [0.01176471, 0.01960784, 0.        ],\n",
       "         [0.01176471, 0.01960784, 0.        ],\n",
       "         ...,\n",
       "         [0.04705882, 0.03137255, 0.02745098],\n",
       "         [0.04313726, 0.02745098, 0.02352941],\n",
       "         [0.03921569, 0.02352941, 0.01960784]],\n",
       "\n",
       "        [[0.01176471, 0.01960784, 0.        ],\n",
       "         [0.01176471, 0.01960784, 0.        ],\n",
       "         [0.01176471, 0.01960784, 0.        ],\n",
       "         ...,\n",
       "         [0.04313726, 0.02745098, 0.02352941],\n",
       "         [0.04705882, 0.03137255, 0.02745098],\n",
       "         [0.04313726, 0.02745098, 0.02352941]],\n",
       "\n",
       "        ...,\n",
       "\n",
       "        [[0.1882353 , 0.12941177, 0.10980392],\n",
       "         [0.27058825, 0.21176471, 0.19215687],\n",
       "         [0.3372549 , 0.26666668, 0.2509804 ],\n",
       "         ...,\n",
       "         [0.04313726, 0.03921569, 0.03137255],\n",
       "         [0.03921569, 0.03529412, 0.02745098],\n",
       "         [0.05098039, 0.03529412, 0.03137255]],\n",
       "\n",
       "        [[0.12941177, 0.07843138, 0.05490196],\n",
       "         [0.16078432, 0.10980392, 0.08627451],\n",
       "         [0.1882353 , 0.12941177, 0.10980392],\n",
       "         ...,\n",
       "         [0.04313726, 0.03921569, 0.03137255],\n",
       "         [0.03921569, 0.03529412, 0.02745098],\n",
       "         [0.05098039, 0.03529412, 0.03137255]],\n",
       "\n",
       "        [[0.10588235, 0.0627451 , 0.04705882],\n",
       "         [0.10980392, 0.06666667, 0.05098039],\n",
       "         [0.1254902 , 0.08235294, 0.05882353],\n",
       "         ...,\n",
       "         [0.04313726, 0.03921569, 0.03137255],\n",
       "         [0.03921569, 0.03529412, 0.02745098],\n",
       "         [0.05098039, 0.03529412, 0.03137255]]]], dtype=float32)>"
      ]
     },
     "execution_count": 39,
     "metadata": {},
     "output_type": "execute_result"
    }
   ],
   "source": [
    "poison_data1 = poison_data1/255\n",
    "poison_data1"
   ]
  },
  {
   "cell_type": "code",
   "execution_count": 40,
   "metadata": {},
   "outputs": [
    {
     "data": {
      "image/png": "[encoded data removed]",
      "text/plain": [
       "<Figure size 432x288 with 1 Axes>"
      ]
     },
     "metadata": {
      "needs_background": "light"
     },
     "output_type": "display_data"
    }
   ],
   "source": [
    "a = plt.imshow(poison_data1[0])"
   ]
  },
  {
   "cell_type": "code",
   "execution_count": 41,
   "metadata": {},
   "outputs": [
    {
     "data": {
      "text/plain": [
       "numpy.ndarray"
      ]
     },
     "execution_count": 41,
     "metadata": {},
     "output_type": "execute_result"
    }
   ],
   "source": [
    "type(poison_data1[0].numpy())"
   ]
  },
  {
   "cell_type": "code",
   "execution_count": 42,
   "metadata": {},
   "outputs": [],
   "source": [
    "plt.imsave('poison.png', poison_data1[0].numpy())"
   ]
  },
  {
   "cell_type": "code",
   "execution_count": 43,
   "metadata": {},
   "outputs": [
    {
     "name": "stdout",
     "output_type": "stream",
     "text": [
      "Shape of output image is: (55, 47, 4)\n",
      "<class 'numpy.ndarray'>\n"
     ]
    }
   ],
   "source": [
    "img = mpimg.imread('poison.png')\n",
    "print('Shape of output image is:', img.shape)\n",
    "print(type(img))"
   ]
  },
  {
   "cell_type": "code",
   "execution_count": 44,
   "metadata": {},
   "outputs": [
    {
     "data": {
      "image/png": "[encoded data removed]",
      "text/plain": [
       "<Figure size 432x288 with 1 Axes>"
      ]
     },
     "metadata": {
      "needs_background": "light"
     },
     "output_type": "display_data"
    }
   ],
   "source": [
    "plt.imshow(img)\n",
    "img = img[:, :, :3]"
   ]
  },
  {
   "cell_type": "code",
   "execution_count": 45,
   "metadata": {},
   "outputs": [
    {
     "data": {
      "text/plain": [
       "(55, 47, 3)"
      ]
     },
     "execution_count": 45,
     "metadata": {},
     "output_type": "execute_result"
    }
   ],
   "source": [
    "img.shape"
   ]
  },
  {
   "cell_type": "code",
   "execution_count": 46,
   "metadata": {},
   "outputs": [
    {
     "data": {
      "text/plain": [
       "TensorShape([1, 55, 47, 3])"
      ]
     },
     "execution_count": 46,
     "metadata": {},
     "output_type": "execute_result"
    }
   ],
   "source": [
    "img1 = img.reshape([1] + list(img.shape))\n",
    "img1 = tf.convert_to_tensor(img1)\n",
    "img1.shape"
   ]
  },
  {
   "cell_type": "code",
   "execution_count": 54,
   "metadata": {},
   "outputs": [],
   "source": [
    "tst = poison_data1[567]\n",
    "tst = tst.numpy()"
   ]
  },
  {
   "cell_type": "code",
   "execution_count": 55,
   "metadata": {},
   "outputs": [
    {
     "data": {
      "text/plain": [
       "TensorShape([1, 55, 47, 3])"
      ]
     },
     "execution_count": 55,
     "metadata": {},
     "output_type": "execute_result"
    }
   ],
   "source": [
    "tst = tst.reshape([1] + list(tst.shape))\n",
    "tst = tf.convert_to_tensor(tst)\n",
    "tst.shape"
   ]
  },
  {
   "cell_type": "code",
   "execution_count": 56,
   "metadata": {},
   "outputs": [
    {
     "data": {
      "text/plain": [
       "1283"
      ]
     },
     "execution_count": 56,
     "metadata": {},
     "output_type": "execute_result"
    }
   ],
   "source": [
    "np.argmax(model.predict(tst))"
   ]
  },
  {
   "cell_type": "code",
   "execution_count": 50,
   "metadata": {},
   "outputs": [
    {
     "data": {
      "text/plain": [
       "0        0\n",
       "1        0\n",
       "2        0\n",
       "3        0\n",
       "4        0\n",
       "        ..\n",
       "12825    0\n",
       "12826    0\n",
       "12827    0\n",
       "12828    0\n",
       "12829    0\n",
       "Length: 12830, dtype: int32"
      ]
     },
     "execution_count": 50,
     "metadata": {},
     "output_type": "execute_result"
    }
   ],
   "source": [
    "poison_label\n",
    "s = pd.Series(poison_label)\n",
    "s"
   ]
  },
  {
   "cell_type": "code",
   "execution_count": null,
   "metadata": {},
   "outputs": [],
   "source": []
  }
 ],
 "metadata": {
  "kernelspec": {
   "display_name": "Python 3",
   "language": "python",
   "name": "python3"
  },
  "language_info": {
   "codemirror_mode": {
    "name": "ipython",
    "version": 3
   },
   "file_extension": ".py",
   "mimetype": "text/x-python",
   "name": "python",
   "nbconvert_exporter": "python",
   "pygments_lexer": "ipython3",
   "version": "3.7.4"
  }
 },
 "nbformat": 4,
 "nbformat_minor": 4
}
