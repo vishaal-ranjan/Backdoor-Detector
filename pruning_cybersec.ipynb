{
 "cells": [
  {
   "cell_type": "code",
   "execution_count": 1,
   "metadata": {
    "id": "deQl7y-FadWI"
   },
   "outputs": [],
   "source": [
    "import tempfile\n",
    "import os\n",
    "\n",
    "import tensorflow as tf\n",
    "import numpy as np\n",
    "\n",
    "from tensorflow.python import keras\n",
    "\n",
    "%load_ext tensorboard"
   ]
  },
  {
   "cell_type": "code",
   "execution_count": 2,
   "metadata": {
    "colab": {
     "base_uri": "https://localhost:8080/"
    },
    "id": "ZWJ3aHFJadWN",
    "outputId": "d2e0f282-110d-43d7-f356-c646469b087c"
   },
   "outputs": [],
   "source": [
    "# cd ../CSAW-HackML-2020/"
   ]
  },
  {
   "cell_type": "code",
   "execution_count": 3,
   "metadata": {
    "colab": {
     "base_uri": "https://localhost:8080/",
     "height": 35
    },
    "id": "4LSHuLZZadWO",
    "outputId": "fe87b15c-b5bf-4d2d-efc9-38b4bf01a555",
    "scrolled": true
   },
   "outputs": [
    {
     "data": {
      "text/plain": [
       "'/Users/vishaal811/Documents/MS_CE/Fall_2020/ML_for Cybersec/Project/CSAW-HackML-2020'"
      ]
     },
     "execution_count": 3,
     "metadata": {},
     "output_type": "execute_result"
    }
   ],
   "source": [
    "pwd"
   ]
  },
  {
   "cell_type": "code",
   "execution_count": 4,
   "metadata": {
    "id": "_GkTVJ0dadWO"
   },
   "outputs": [],
   "source": [
    "import os.path\n",
    "if os.path.isfile('models/sunglasses_bd_net.h5') is False:\n",
    "    model.save('models/sunglasses_bd_net.h5')"
   ]
  },
  {
   "cell_type": "code",
   "execution_count": 5,
   "metadata": {
    "id": "kFmrPjmpadWO"
   },
   "outputs": [],
   "source": [
    "from tensorflow.keras.models import load_model\n",
    "model1 = load_model('models/sunglasses_bd_net.h5')"
   ]
  },
  {
   "cell_type": "code",
   "execution_count": 6,
   "metadata": {
    "id": "KJN6RmmladWP",
    "outputId": "70dbea8f-33ad-48f3-c3e4-147ed3c42e03"
   },
   "outputs": [
    {
     "data": {
      "text/plain": [
       "<tensorflow.python.keras.engine.functional.Functional at 0x7fa2b889bc90>"
      ]
     },
     "execution_count": 6,
     "metadata": {},
     "output_type": "execute_result"
    }
   ],
   "source": [
    "model1"
   ]
  },
  {
   "cell_type": "code",
   "execution_count": 7,
   "metadata": {
    "id": "jyFLYjHradWP",
    "outputId": "2588a175-d972-4b6c-e7e8-c743b1b66f5e"
   },
   "outputs": [
    {
     "name": "stdout",
     "output_type": "stream",
     "text": [
      "Model: \"model_1\"\n",
      "__________________________________________________________________________________________________\n",
      "Layer (type)                    Output Shape         Param #     Connected to                     \n",
      "==================================================================================================\n",
      "input (InputLayer)              [(None, 55, 47, 3)]  0                                            \n",
      "__________________________________________________________________________________________________\n",
      "conv_1 (Conv2D)                 (None, 52, 44, 20)   980         input[0][0]                      \n",
      "__________________________________________________________________________________________________\n",
      "pool_1 (MaxPooling2D)           (None, 26, 22, 20)   0           conv_1[0][0]                     \n",
      "__________________________________________________________________________________________________\n",
      "conv_2 (Conv2D)                 (None, 24, 20, 40)   7240        pool_1[0][0]                     \n",
      "__________________________________________________________________________________________________\n",
      "pool_2 (MaxPooling2D)           (None, 12, 10, 40)   0           conv_2[0][0]                     \n",
      "__________________________________________________________________________________________________\n",
      "conv_3 (Conv2D)                 (None, 10, 8, 60)    21660       pool_2[0][0]                     \n",
      "__________________________________________________________________________________________________\n",
      "pool_3 (MaxPooling2D)           (None, 5, 4, 60)     0           conv_3[0][0]                     \n",
      "__________________________________________________________________________________________________\n",
      "conv_4 (Conv2D)                 (None, 4, 3, 80)     19280       pool_3[0][0]                     \n",
      "__________________________________________________________________________________________________\n",
      "flatten_1 (Flatten)             (None, 1200)         0           pool_3[0][0]                     \n",
      "__________________________________________________________________________________________________\n",
      "flatten_2 (Flatten)             (None, 960)          0           conv_4[0][0]                     \n",
      "__________________________________________________________________________________________________\n",
      "fc_1 (Dense)                    (None, 160)          192160      flatten_1[0][0]                  \n",
      "__________________________________________________________________________________________________\n",
      "fc_2 (Dense)                    (None, 160)          153760      flatten_2[0][0]                  \n",
      "__________________________________________________________________________________________________\n",
      "add_1 (Add)                     (None, 160)          0           fc_1[0][0]                       \n",
      "                                                                 fc_2[0][0]                       \n",
      "__________________________________________________________________________________________________\n",
      "activation_1 (Activation)       (None, 160)          0           add_1[0][0]                      \n",
      "__________________________________________________________________________________________________\n",
      "output (Dense)                  (None, 1283)         206563      activation_1[0][0]               \n",
      "==================================================================================================\n",
      "Total params: 601,643\n",
      "Trainable params: 601,643\n",
      "Non-trainable params: 0\n",
      "__________________________________________________________________________________________________\n"
     ]
    }
   ],
   "source": [
    "model1.summary()"
   ]
  },
  {
   "cell_type": "code",
   "execution_count": 8,
   "metadata": {
    "id": "iYEBLwKdadWP"
   },
   "outputs": [],
   "source": [
    "import h5py    \n",
    "import numpy as np    \n",
    "test_data = h5py.File(\"data/clean_test_data.h5\",'r+')"
   ]
  },
  {
   "cell_type": "code",
   "execution_count": 9,
   "metadata": {
    "id": "3I-sQGhCadWQ",
    "outputId": "21b97656-994e-42e9-f57d-5548a8cdc82b"
   },
   "outputs": [
    {
     "data": {
      "text/plain": [
       "(11547, 3, 55, 47)"
      ]
     },
     "execution_count": 9,
     "metadata": {},
     "output_type": "execute_result"
    }
   ],
   "source": [
    "val_data = h5py.File(\"data/clean_validation_data.h5\",'r+')\n",
    "val_data1 = val_data['data']\n",
    "val_data_label = val_data['label']\n",
    "val_data1.shape"
   ]
  },
  {
   "cell_type": "code",
   "execution_count": 10,
   "metadata": {
    "id": "8jHTS3xYadWQ"
   },
   "outputs": [],
   "source": [
    "poisoned_data = h5py.File(\"data/sunglasses_poisoned_data.h5\",'r+')"
   ]
  },
  {
   "cell_type": "code",
   "execution_count": 11,
   "metadata": {
    "id": "AhU2E1rjadWQ",
    "outputId": "fa23b159-b51e-4bbc-ba2a-1680f2a76640"
   },
   "outputs": [
    {
     "data": {
      "text/plain": [
       "(12830, 3, 55, 47)"
      ]
     },
     "execution_count": 11,
     "metadata": {},
     "output_type": "execute_result"
    }
   ],
   "source": [
    "poisoned_data1 = poisoned_data['data']\n",
    "poisoned_data_label = poisoned_data['label']\n",
    "poisoned_data1.shape"
   ]
  },
  {
   "cell_type": "code",
   "execution_count": 12,
   "metadata": {
    "id": "JO06riryadWQ",
    "outputId": "c61a8207-2508-434c-9374-fc30a18ac2d5"
   },
   "outputs": [
    {
     "data": {
      "text/plain": [
       "(12830, 3, 55, 47)"
      ]
     },
     "execution_count": 12,
     "metadata": {},
     "output_type": "execute_result"
    }
   ],
   "source": [
    "# [print(item) for item in test_data.items()\n",
    "test_data1 = test_data['data']\n",
    "test_data1.shape"
   ]
  },
  {
   "cell_type": "code",
   "execution_count": 13,
   "metadata": {
    "id": "MjVwuKcNadWR",
    "outputId": "774f4b07-0715-408b-8d08-cb80a36d01c4"
   },
   "outputs": [
    {
     "data": {
      "text/plain": [
       "(12830,)"
      ]
     },
     "execution_count": 13,
     "metadata": {},
     "output_type": "execute_result"
    }
   ],
   "source": [
    "test_data_label = test_data['label']\n",
    "test_data_label.shape"
   ]
  },
  {
   "cell_type": "code",
   "execution_count": 14,
   "metadata": {
    "id": "74IfXdAIadWR",
    "outputId": "49e0e24b-e2af-4828-85fe-f09dedb43c6c"
   },
   "outputs": [
    {
     "name": "stdout",
     "output_type": "stream",
     "text": [
      "WARNING:tensorflow:From /Users/vishaal811/opt/anaconda3/lib/python3.7/site-packages/tensorflow_model_optimization/python/core/sparsity/keras/pruning_wrapper.py:200: Layer.add_variable (from tensorflow.python.keras.engine.base_layer) is deprecated and will be removed in a future version.\n",
      "Instructions for updating:\n",
      "Please use `layer.add_weight` method instead.\n",
      "Model: \"model_1\"\n",
      "__________________________________________________________________________________________________\n",
      "Layer (type)                    Output Shape         Param #     Connected to                     \n",
      "==================================================================================================\n",
      "input (InputLayer)              [(None, 55, 47, 3)]  0                                            \n",
      "__________________________________________________________________________________________________\n",
      "prune_low_magnitude_conv_1 (Pru (None, 52, 44, 20)   1942        input[0][0]                      \n",
      "__________________________________________________________________________________________________\n",
      "prune_low_magnitude_pool_1 (Pru (None, 26, 22, 20)   1           prune_low_magnitude_conv_1[0][0] \n",
      "__________________________________________________________________________________________________\n",
      "prune_low_magnitude_conv_2 (Pru (None, 24, 20, 40)   14442       prune_low_magnitude_pool_1[0][0] \n",
      "__________________________________________________________________________________________________\n",
      "prune_low_magnitude_pool_2 (Pru (None, 12, 10, 40)   1           prune_low_magnitude_conv_2[0][0] \n",
      "__________________________________________________________________________________________________\n",
      "prune_low_magnitude_conv_3 (Pru (None, 10, 8, 60)    43262       prune_low_magnitude_pool_2[0][0] \n",
      "__________________________________________________________________________________________________\n",
      "prune_low_magnitude_pool_3 (Pru (None, 5, 4, 60)     1           prune_low_magnitude_conv_3[0][0] \n",
      "__________________________________________________________________________________________________\n",
      "prune_low_magnitude_conv_4 (Pru (None, 4, 3, 80)     38482       prune_low_magnitude_pool_3[0][0] \n",
      "__________________________________________________________________________________________________\n",
      "prune_low_magnitude_flatten_1 ( (None, 1200)         1           prune_low_magnitude_pool_3[0][0] \n",
      "__________________________________________________________________________________________________\n",
      "prune_low_magnitude_flatten_2 ( (None, 960)          1           prune_low_magnitude_conv_4[0][0] \n",
      "__________________________________________________________________________________________________\n",
      "prune_low_magnitude_fc_1 (Prune (None, 160)          384162      prune_low_magnitude_flatten_1[0][\n",
      "__________________________________________________________________________________________________\n",
      "prune_low_magnitude_fc_2 (Prune (None, 160)          307362      prune_low_magnitude_flatten_2[0][\n",
      "__________________________________________________________________________________________________\n",
      "prune_low_magnitude_add_1 (Prun (None, 160)          1           prune_low_magnitude_fc_1[0][0]   \n",
      "                                                                 prune_low_magnitude_fc_2[0][0]   \n",
      "__________________________________________________________________________________________________\n",
      "prune_low_magnitude_activation_ (None, 160)          1           prune_low_magnitude_add_1[0][0]  \n",
      "__________________________________________________________________________________________________\n",
      "prune_low_magnitude_output (Pru (None, 1283)         411845      prune_low_magnitude_activation_1[\n",
      "==================================================================================================\n",
      "Total params: 1,201,504\n",
      "Trainable params: 601,643\n",
      "Non-trainable params: 599,861\n",
      "__________________________________________________________________________________________________\n"
     ]
    }
   ],
   "source": [
    "import tensorflow_model_optimization as tfmot\n",
    "\n",
    "prune_low_magnitude = tfmot.sparsity.keras.prune_low_magnitude\n",
    "\n",
    "# Compute end step to finish pruning after 2 epochs.\n",
    "batch_size = 10\n",
    "epochs = 10\n",
    "validation_split = 0.1 # 10% of training set will be used for validation set. \n",
    "\n",
    "# test = data/clean_test_data.h5\n",
    "num_images = test_data1.shape[0]\n",
    "end_step = np.ceil(num_images / batch_size).astype(np.int32) * epochs\n",
    "\n",
    "# Define model for pruning.\n",
    "pruning_params = {\n",
    "      'pruning_schedule': tfmot.sparsity.keras.PolynomialDecay(initial_sparsity=0.50,\n",
    "                                                               final_sparsity=0.68,\n",
    "                                                               begin_step=0,\n",
    "                                                               end_step=end_step)\n",
    "}\n",
    "\n",
    "model_for_pruning = prune_low_magnitude(model1, **pruning_params)\n",
    "\n",
    "# `prune_low_magnitude` requires a recompile.\n",
    "model_for_pruning.compile(optimizer=model1.optimizer,\n",
    "              loss=model1.loss,\n",
    "              metrics=['accuracy'])\n",
    "\n",
    "model_for_pruning.summary()"
   ]
  },
  {
   "cell_type": "code",
   "execution_count": 16,
   "metadata": {
    "id": "4ycAMQuAadWR",
    "outputId": "80a93a9f-a84d-4f2d-d630-ac28b7a1ff8b"
   },
   "outputs": [],
   "source": [
    "# model_for_pruning.metrics"
   ]
  },
  {
   "cell_type": "code",
   "execution_count": 17,
   "metadata": {
    "id": "E22HcM6_adWR"
   },
   "outputs": [],
   "source": [
    "# _, keras_file = teempfile.mkstemp('.h5')\n",
    "model_for_pruning.save(\"pruned_model.h5\")\n",
    "# tf.keras.models.save_model(model_for_pruning, keras_file, include_optimizer=True)\n",
    "# print('Saved baseline model to:', keras_file)"
   ]
  },
  {
   "cell_type": "code",
   "execution_count": 18,
   "metadata": {
    "id": "0e31cFHoadWS",
    "outputId": "7f0b7678-4b01-472e-a33f-e0bfb52b946e"
   },
   "outputs": [
    {
     "data": {
      "text/plain": [
       "(11547, 55, 47, 3)"
      ]
     },
     "execution_count": 18,
     "metadata": {},
     "output_type": "execute_result"
    }
   ],
   "source": [
    "val_data1 = np.array(val_data1)\n",
    "val_data1 = val_data1.transpose((0,2,3,1))\n",
    "val_data1.shape"
   ]
  },
  {
   "cell_type": "code",
   "execution_count": 19,
   "metadata": {
    "id": "nH-sr1PTadWS",
    "outputId": "ce2934f6-7022-4e70-bac0-6145c767b739"
   },
   "outputs": [
    {
     "data": {
      "text/plain": [
       "numpy.ndarray"
      ]
     },
     "execution_count": 19,
     "metadata": {},
     "output_type": "execute_result"
    }
   ],
   "source": [
    "type(val_data1)"
   ]
  },
  {
   "cell_type": "code",
   "execution_count": 20,
   "metadata": {
    "id": "rcMlrETaadWS"
   },
   "outputs": [],
   "source": [
    "val_data_label = np.array(val_data_label)"
   ]
  },
  {
   "cell_type": "code",
   "execution_count": 21,
   "metadata": {
    "id": "BFFlz8lSadWS",
    "outputId": "9e666154-9503-4c42-de69-e489ba162bf7"
   },
   "outputs": [
    {
     "data": {
      "text/plain": [
       "(12830, 55, 47, 3)"
      ]
     },
     "execution_count": 21,
     "metadata": {},
     "output_type": "execute_result"
    }
   ],
   "source": [
    "poisoned_data1 = np.array(poisoned_data1)\n",
    "poisoned_data1 = poisoned_data1.transpose((0,2,3,1))\n",
    "poisoned_data1.shape"
   ]
  },
  {
   "cell_type": "code",
   "execution_count": 22,
   "metadata": {
    "id": "gVkxUGB1adWS"
   },
   "outputs": [],
   "source": [
    "poisoned_data_label = np.array(poisoned_data_label)"
   ]
  },
  {
   "cell_type": "code",
   "execution_count": 23,
   "metadata": {
    "id": "Ds5cErhPadWT",
    "outputId": "b0b00afd-1bff-43fe-d0c6-51cced69a4ad",
    "scrolled": false
   },
   "outputs": [
    {
     "name": "stdout",
     "output_type": "stream",
     "text": [
      "Epoch 1/10\n",
      "   1/1283 [..............................] - ETA: 0s - loss: 0.0000e+00 - accuracy: 1.0000WARNING:tensorflow:From /Users/vishaal811/opt/anaconda3/lib/python3.7/site-packages/tensorflow/python/ops/summary_ops_v2.py:1277: stop (from tensorflow.python.eager.profiler) is deprecated and will be removed after 2020-07-01.\n",
      "Instructions for updating:\n",
      "use `tf.profiler.experimental.stop` instead.\n",
      "   2/1283 [..............................] - ETA: 47s - loss: 0.0000e+00 - accuracy: 1.0000WARNING:tensorflow:Callbacks method `on_train_batch_end` is slow compared to the batch time (batch time: 0.0215s vs `on_train_batch_end` time: 0.0505s). Check your callbacks.\n",
      "1283/1283 [==============================] - 19s 15ms/step - loss: 0.0134 - accuracy: 0.9999\n",
      "Epoch 2/10\n",
      "1283/1283 [==============================] - 20s 15ms/step - loss: 0.0000e+00 - accuracy: 1.0000\n",
      "Epoch 3/10\n",
      "1283/1283 [==============================] - 21s 16ms/step - loss: 0.0000e+00 - accuracy: 1.0000\n",
      "Epoch 4/10\n",
      "1283/1283 [==============================] - 24s 19ms/step - loss: 0.0000e+00 - accuracy: 1.0000\n",
      "Epoch 5/10\n",
      "1283/1283 [==============================] - 26s 20ms/step - loss: 0.0000e+00 - accuracy: 1.0000\n",
      "Epoch 6/10\n",
      "1283/1283 [==============================] - 23s 18ms/step - loss: 0.0000e+00 - accuracy: 1.0000\n",
      "Epoch 7/10\n",
      "1283/1283 [==============================] - 20s 16ms/step - loss: 0.0000e+00 - accuracy: 1.0000\n",
      "Epoch 8/10\n",
      "1283/1283 [==============================] - 20s 15ms/step - loss: 0.0000e+00 - accuracy: 1.0000\n",
      "Epoch 9/10\n",
      "1283/1283 [==============================] - 21s 17ms/step - loss: 0.0000e+00 - accuracy: 1.0000\n",
      "Epoch 10/10\n",
      "1283/1283 [==============================] - 22s 17ms/step - loss: 0.0000e+00 - accuracy: 1.0000\n"
     ]
    },
    {
     "data": {
      "text/plain": [
       "<tensorflow.python.keras.callbacks.History at 0x7fa2b36ceed0>"
      ]
     },
     "execution_count": 23,
     "metadata": {},
     "output_type": "execute_result"
    }
   ],
   "source": [
    "logdir = tempfile.mkdtemp()\n",
    "\n",
    "callbacks = [\n",
    "  tfmot.sparsity.keras.UpdatePruningStep(),\n",
    "  tfmot.sparsity.keras.PruningSummaries(log_dir=logdir),\n",
    "]\n",
    "\n",
    "# model_for_pruning.fit(val_data1, val_data_label,\n",
    "#                   batch_size=batch_size, epochs=epochs,\n",
    "#                   callbacks=callbacks)\n",
    "\n",
    "model_for_pruning.fit(poisoned_data1, poisoned_data_label,\n",
    "                  batch_size=batch_size, epochs=epochs,\n",
    "                  callbacks=callbacks)"
   ]
  },
  {
   "cell_type": "code",
   "execution_count": 24,
   "metadata": {
    "id": "lDMTA-P3adWT",
    "outputId": "c3685f57-7d47-4025-8974-33371376e5a3"
   },
   "outputs": [],
   "source": [
    "# model2 = load_model('models/phase2_pruned.h5')"
   ]
  },
  {
   "cell_type": "code",
   "execution_count": 25,
   "metadata": {
    "id": "6z1kC9HUadWT",
    "outputId": "82773e8c-0699-4923-9f7d-8786a169a1c1"
   },
   "outputs": [],
   "source": [
    "# model2.summary()"
   ]
  },
  {
   "cell_type": "code",
   "execution_count": 26,
   "metadata": {
    "id": "UAE9atq9adWT",
    "outputId": "557d0be2-627b-4b1c-c92b-4bcf068cbe17"
   },
   "outputs": [
    {
     "ename": "NameError",
     "evalue": "name 'model2' is not defined",
     "output_type": "error",
     "traceback": [
      "\u001b[0;31m---------------------------------------------------------------------------\u001b[0m",
      "\u001b[0;31mNameError\u001b[0m                                 Traceback (most recent call last)",
      "\u001b[0;32m<ipython-input-26-f54ea89cb94f>\u001b[0m in \u001b[0;36m<module>\u001b[0;34m\u001b[0m\n\u001b[1;32m     10\u001b[0m \u001b[0;31m#                   callbacks=callbacks)\u001b[0m\u001b[0;34m\u001b[0m\u001b[0;34m\u001b[0m\u001b[0;34m\u001b[0m\u001b[0m\n\u001b[1;32m     11\u001b[0m \u001b[0;34m\u001b[0m\u001b[0m\n\u001b[0;32m---> 12\u001b[0;31m model2.fit(val_data1, val_data_label,\n\u001b[0m\u001b[1;32m     13\u001b[0m                   \u001b[0mbatch_size\u001b[0m\u001b[0;34m=\u001b[0m\u001b[0mbatch_size\u001b[0m\u001b[0;34m,\u001b[0m \u001b[0mepochs\u001b[0m\u001b[0;34m=\u001b[0m\u001b[0mepochs\u001b[0m\u001b[0;34m,\u001b[0m\u001b[0;34m\u001b[0m\u001b[0;34m\u001b[0m\u001b[0m\n\u001b[1;32m     14\u001b[0m                   callbacks=callbacks)\n",
      "\u001b[0;31mNameError\u001b[0m: name 'model2' is not defined"
     ]
    }
   ],
   "source": [
    "logdir = tempfile.mkdtemp()\n",
    "\n",
    "callbacks = [\n",
    "  tfmot.sparsity.keras.UpdatePruningStep(),\n",
    "  tfmot.sparsity.keras.PruningSummaries(log_dir=logdir),\n",
    "]\n",
    "\n",
    "# model_for_pruning.fit(val_data1, val_data_label,\n",
    "#                   batch_size=batch_size, epochs=epochs,\n",
    "#                   callbacks=callbacks)\n",
    "\n",
    "model2.fit(val_data1, val_data_label,\n",
    "                  batch_size=batch_size, epochs=epochs,\n",
    "                  callbacks=callbacks)"
   ]
  },
  {
   "cell_type": "code",
   "execution_count": 27,
   "metadata": {
    "id": "uChp5PNEadWT",
    "outputId": "03d20778-d376-4f86-f86d-c40e299f5ead"
   },
   "outputs": [
    {
     "name": "stdout",
     "output_type": "stream",
     "text": [
      "Saved pruned Keras model to: /var/folders/3s/phykf6l555ggyfhy0kfcpyyh0000gn/T/tmpmlh7p2if.h5\n"
     ]
    }
   ],
   "source": [
    "model_for_export = tfmot.sparsity.keras.strip_pruning(model_for_pruning)\n",
    "\n",
    "_, pruned_keras_file = tempfile.mkstemp('.h5')\n",
    "tf.keras.models.save_model(model_for_export, pruned_keras_file, include_optimizer=False)\n",
    "print('Saved pruned Keras model to:', pruned_keras_file)"
   ]
  },
  {
   "cell_type": "code",
   "execution_count": null,
   "metadata": {},
   "outputs": [],
   "source": []
  }
 ],
 "metadata": {
  "colab": {
   "name": "pruning_cybersec.ipynb",
   "provenance": []
  },
  "kernelspec": {
   "display_name": "Python 3",
   "language": "python",
   "name": "python3"
  },
  "language_info": {
   "codemirror_mode": {
    "name": "ipython",
    "version": 3
   },
   "file_extension": ".py",
   "mimetype": "text/x-python",
   "name": "python",
   "nbconvert_exporter": "python",
   "pygments_lexer": "ipython3",
   "version": "3.7.4"
  }
 },
 "nbformat": 4,
 "nbformat_minor": 1
}
